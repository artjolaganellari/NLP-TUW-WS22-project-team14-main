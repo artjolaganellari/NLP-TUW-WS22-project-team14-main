{
 "cells": [
  {
   "cell_type": "markdown",
   "id": "48d18d21",
   "metadata": {
    "id": "48d18d21"
   },
   "source": [
    "# Milestone 2"
   ]
  },
  {
   "cell_type": "code",
   "execution_count": 1,
   "id": "beda32b1",
   "metadata": {
    "id": "beda32b1",
    "outputId": "eb2e3789-a8e9-44fd-cdc3-8516cd0d4abc"
   },
   "outputs": [
    {
     "name": "stdout",
     "output_type": "stream",
     "text": [
      "C:\\Users\\RHabe\\Documents\\NLP\\project-team14\n"
     ]
    }
   ],
   "source": [
    "%load_ext autoreload\n",
    "%autoreload 2\n",
    "%cd ../"
   ]
  },
  {
   "cell_type": "code",
   "execution_count": 2,
   "id": "7705a686",
   "metadata": {
    "id": "7705a686",
    "outputId": "875abb37-8525-4b4c-c14c-e4e7dabb6c10"
   },
   "outputs": [
    {
     "name": "stdout",
     "output_type": "stream",
     "text": [
      "Requirement already satisfied: torchtext==0.6.0 in c:\\users\\rhabe\\anaconda3\\envs\\tuwnlpie\\lib\\site-packages (0.6.0)\n",
      "Requirement already satisfied: tqdm in c:\\users\\rhabe\\anaconda3\\envs\\tuwnlpie\\lib\\site-packages (from torchtext==0.6.0) (4.64.1)\n",
      "Requirement already satisfied: numpy in c:\\users\\rhabe\\anaconda3\\envs\\tuwnlpie\\lib\\site-packages (from torchtext==0.6.0) (1.23.3)\n",
      "Requirement already satisfied: requests in c:\\users\\rhabe\\anaconda3\\envs\\tuwnlpie\\lib\\site-packages (from torchtext==0.6.0) (2.28.1)\n",
      "Requirement already satisfied: six in c:\\users\\rhabe\\anaconda3\\envs\\tuwnlpie\\lib\\site-packages (from torchtext==0.6.0) (1.16.0)\n",
      "Requirement already satisfied: sentencepiece in c:\\users\\rhabe\\anaconda3\\envs\\tuwnlpie\\lib\\site-packages (from torchtext==0.6.0) (0.1.97)\n",
      "Requirement already satisfied: torch in c:\\users\\rhabe\\appdata\\roaming\\python\\python310\\site-packages (from torchtext==0.6.0) (1.12.0)\n",
      "Requirement already satisfied: charset-normalizer<3,>=2 in c:\\users\\rhabe\\anaconda3\\envs\\tuwnlpie\\lib\\site-packages (from requests->torchtext==0.6.0) (2.1.1)\n",
      "Requirement already satisfied: certifi>=2017.4.17 in c:\\users\\rhabe\\anaconda3\\envs\\tuwnlpie\\lib\\site-packages (from requests->torchtext==0.6.0) (2022.9.24)\n",
      "Requirement already satisfied: idna<4,>=2.5 in c:\\users\\rhabe\\anaconda3\\envs\\tuwnlpie\\lib\\site-packages (from requests->torchtext==0.6.0) (3.4)\n",
      "Requirement already satisfied: urllib3<1.27,>=1.21.1 in c:\\users\\rhabe\\anaconda3\\envs\\tuwnlpie\\lib\\site-packages (from requests->torchtext==0.6.0) (1.26.13)\n",
      "Requirement already satisfied: typing-extensions in c:\\users\\rhabe\\anaconda3\\envs\\tuwnlpie\\lib\\site-packages (from torch->torchtext==0.6.0) (4.4.0)\n",
      "Requirement already satisfied: colorama in c:\\users\\rhabe\\anaconda3\\envs\\tuwnlpie\\lib\\site-packages (from tqdm->torchtext==0.6.0) (0.4.6)\n"
     ]
    },
    {
     "name": "stderr",
     "output_type": "stream",
     "text": [
      "WARNING: Ignoring invalid distribution -orch (c:\\users\\rhabe\\anaconda3\\envs\\tuwnlpie\\lib\\site-packages)\n",
      "WARNING: Ignoring invalid distribution -orch (c:\\users\\rhabe\\anaconda3\\envs\\tuwnlpie\\lib\\site-packages)\n",
      "WARNING: Ignoring invalid distribution -orch (c:\\users\\rhabe\\anaconda3\\envs\\tuwnlpie\\lib\\site-packages)\n",
      "WARNING: Ignoring invalid distribution -orch (c:\\users\\rhabe\\anaconda3\\envs\\tuwnlpie\\lib\\site-packages)\n",
      "WARNING: Ignoring invalid distribution -orch (c:\\users\\rhabe\\anaconda3\\envs\\tuwnlpie\\lib\\site-packages)\n",
      "WARNING: Ignoring invalid distribution -orch (c:\\users\\rhabe\\anaconda3\\envs\\tuwnlpie\\lib\\site-packages)\n"
     ]
    },
    {
     "name": "stdout",
     "output_type": "stream",
     "text": [
      "Requirement already satisfied: lime in c:\\users\\rhabe\\anaconda3\\envs\\tuwnlpie\\lib\\site-packages (0.2.0.1)\n",
      "Requirement already satisfied: numpy in c:\\users\\rhabe\\anaconda3\\envs\\tuwnlpie\\lib\\site-packages (from lime) (1.23.3)\n",
      "Requirement already satisfied: scikit-image>=0.12 in c:\\users\\rhabe\\anaconda3\\envs\\tuwnlpie\\lib\\site-packages (from lime) (0.19.3)\n",
      "Requirement already satisfied: matplotlib in c:\\users\\rhabe\\anaconda3\\envs\\tuwnlpie\\lib\\site-packages (from lime) (3.5.3)\n",
      "Requirement already satisfied: scipy in c:\\users\\rhabe\\anaconda3\\envs\\tuwnlpie\\lib\\site-packages (from lime) (1.9.3)\n",
      "Requirement already satisfied: tqdm in c:\\users\\rhabe\\anaconda3\\envs\\tuwnlpie\\lib\\site-packages (from lime) (4.64.1)\n",
      "Requirement already satisfied: scikit-learn>=0.18 in c:\\users\\rhabe\\anaconda3\\envs\\tuwnlpie\\lib\\site-packages (from lime) (1.1.2)\n",
      "Requirement already satisfied: PyWavelets>=1.1.1 in c:\\users\\rhabe\\anaconda3\\envs\\tuwnlpie\\lib\\site-packages (from scikit-image>=0.12->lime) (1.4.1)\n",
      "Requirement already satisfied: pillow!=7.1.0,!=7.1.1,!=8.3.0,>=6.1.0 in c:\\users\\rhabe\\anaconda3\\envs\\tuwnlpie\\lib\\site-packages (from scikit-image>=0.12->lime) (9.2.0)\n",
      "Requirement already satisfied: packaging>=20.0 in c:\\users\\rhabe\\anaconda3\\envs\\tuwnlpie\\lib\\site-packages (from scikit-image>=0.12->lime) (21.3)\n",
      "Requirement already satisfied: tifffile>=2019.7.26 in c:\\users\\rhabe\\anaconda3\\envs\\tuwnlpie\\lib\\site-packages (from scikit-image>=0.12->lime) (2022.10.10)\n",
      "Requirement already satisfied: imageio>=2.4.1 in c:\\users\\rhabe\\anaconda3\\envs\\tuwnlpie\\lib\\site-packages (from scikit-image>=0.12->lime) (2.22.4)\n",
      "Requirement already satisfied: networkx>=2.2 in c:\\users\\rhabe\\anaconda3\\envs\\tuwnlpie\\lib\\site-packages (from scikit-image>=0.12->lime) (2.8.8)\n",
      "Requirement already satisfied: threadpoolctl>=2.0.0 in c:\\users\\rhabe\\anaconda3\\envs\\tuwnlpie\\lib\\site-packages (from scikit-learn>=0.18->lime) (3.1.0)\n",
      "Requirement already satisfied: joblib>=1.0.0 in c:\\users\\rhabe\\anaconda3\\envs\\tuwnlpie\\lib\\site-packages (from scikit-learn>=0.18->lime) (1.2.0)\n",
      "Requirement already satisfied: kiwisolver>=1.0.1 in c:\\users\\rhabe\\anaconda3\\envs\\tuwnlpie\\lib\\site-packages (from matplotlib->lime) (1.4.2)\n",
      "Requirement already satisfied: python-dateutil>=2.7 in c:\\users\\rhabe\\anaconda3\\envs\\tuwnlpie\\lib\\site-packages (from matplotlib->lime) (2.8.2)\n",
      "Requirement already satisfied: pyparsing>=2.2.1 in c:\\users\\rhabe\\anaconda3\\envs\\tuwnlpie\\lib\\site-packages (from matplotlib->lime) (3.0.9)\n",
      "Requirement already satisfied: cycler>=0.10 in c:\\users\\rhabe\\anaconda3\\envs\\tuwnlpie\\lib\\site-packages (from matplotlib->lime) (0.11.0)\n",
      "Requirement already satisfied: fonttools>=4.22.0 in c:\\users\\rhabe\\anaconda3\\envs\\tuwnlpie\\lib\\site-packages (from matplotlib->lime) (4.25.0)\n",
      "Requirement already satisfied: colorama in c:\\users\\rhabe\\anaconda3\\envs\\tuwnlpie\\lib\\site-packages (from tqdm->lime) (0.4.6)\n",
      "Requirement already satisfied: six>=1.5 in c:\\users\\rhabe\\anaconda3\\envs\\tuwnlpie\\lib\\site-packages (from python-dateutil>=2.7->matplotlib->lime) (1.16.0)\n"
     ]
    },
    {
     "name": "stderr",
     "output_type": "stream",
     "text": [
      "WARNING: Ignoring invalid distribution -orch (c:\\users\\rhabe\\anaconda3\\envs\\tuwnlpie\\lib\\site-packages)\n",
      "WARNING: Ignoring invalid distribution -orch (c:\\users\\rhabe\\anaconda3\\envs\\tuwnlpie\\lib\\site-packages)\n",
      "WARNING: Ignoring invalid distribution -orch (c:\\users\\rhabe\\anaconda3\\envs\\tuwnlpie\\lib\\site-packages)\n",
      "WARNING: Ignoring invalid distribution -orch (c:\\users\\rhabe\\anaconda3\\envs\\tuwnlpie\\lib\\site-packages)\n",
      "WARNING: Ignoring invalid distribution -orch (c:\\users\\rhabe\\anaconda3\\envs\\tuwnlpie\\lib\\site-packages)\n",
      "WARNING: Ignoring invalid distribution -orch (c:\\users\\rhabe\\anaconda3\\envs\\tuwnlpie\\lib\\site-packages)\n"
     ]
    },
    {
     "name": "stdout",
     "output_type": "stream",
     "text": [
      "Requirement already satisfied: spacy in c:\\users\\rhabe\\anaconda3\\envs\\tuwnlpie\\lib\\site-packages (3.4.3)\n",
      "Requirement already satisfied: murmurhash<1.1.0,>=0.28.0 in c:\\users\\rhabe\\anaconda3\\envs\\tuwnlpie\\lib\\site-packages (from spacy) (1.0.9)\n",
      "Requirement already satisfied: setuptools in c:\\users\\rhabe\\anaconda3\\envs\\tuwnlpie\\lib\\site-packages (from spacy) (65.5.0)\n",
      "Requirement already satisfied: cymem<2.1.0,>=2.0.2 in c:\\users\\rhabe\\anaconda3\\envs\\tuwnlpie\\lib\\site-packages (from spacy) (2.0.7)\n",
      "Requirement already satisfied: preshed<3.1.0,>=3.0.2 in c:\\users\\rhabe\\anaconda3\\envs\\tuwnlpie\\lib\\site-packages (from spacy) (3.0.8)\n",
      "Requirement already satisfied: jinja2 in c:\\users\\rhabe\\anaconda3\\envs\\tuwnlpie\\lib\\site-packages (from spacy) (3.1.2)\n",
      "Requirement already satisfied: spacy-loggers<2.0.0,>=1.0.0 in c:\\users\\rhabe\\anaconda3\\envs\\tuwnlpie\\lib\\site-packages (from spacy) (1.0.3)\n",
      "Requirement already satisfied: catalogue<2.1.0,>=2.0.6 in c:\\users\\rhabe\\anaconda3\\envs\\tuwnlpie\\lib\\site-packages (from spacy) (2.0.8)\n",
      "Requirement already satisfied: langcodes<4.0.0,>=3.2.0 in c:\\users\\rhabe\\anaconda3\\envs\\tuwnlpie\\lib\\site-packages (from spacy) (3.3.0)\n",
      "Requirement already satisfied: wasabi<1.1.0,>=0.9.1 in c:\\users\\rhabe\\anaconda3\\envs\\tuwnlpie\\lib\\site-packages (from spacy) (0.10.1)\n",
      "Requirement already satisfied: numpy>=1.15.0 in c:\\users\\rhabe\\anaconda3\\envs\\tuwnlpie\\lib\\site-packages (from spacy) (1.23.3)\n",
      "Requirement already satisfied: thinc<8.2.0,>=8.1.0 in c:\\users\\rhabe\\anaconda3\\envs\\tuwnlpie\\lib\\site-packages (from spacy) (8.1.5)\n",
      "Requirement already satisfied: typer<0.8.0,>=0.3.0 in c:\\users\\rhabe\\anaconda3\\envs\\tuwnlpie\\lib\\site-packages (from spacy) (0.7.0)\n",
      "Requirement already satisfied: srsly<3.0.0,>=2.4.3 in c:\\users\\rhabe\\anaconda3\\envs\\tuwnlpie\\lib\\site-packages (from spacy) (2.4.5)\n",
      "Requirement already satisfied: packaging>=20.0 in c:\\users\\rhabe\\anaconda3\\envs\\tuwnlpie\\lib\\site-packages (from spacy) (21.3)\n",
      "Requirement already satisfied: pydantic!=1.8,!=1.8.1,<1.11.0,>=1.7.4 in c:\\users\\rhabe\\anaconda3\\envs\\tuwnlpie\\lib\\site-packages (from spacy) (1.10.2)\n",
      "Requirement already satisfied: spacy-legacy<3.1.0,>=3.0.10 in c:\\users\\rhabe\\anaconda3\\envs\\tuwnlpie\\lib\\site-packages (from spacy) (3.0.10)\n",
      "Requirement already satisfied: pathy>=0.3.5 in c:\\users\\rhabe\\anaconda3\\envs\\tuwnlpie\\lib\\site-packages (from spacy) (0.10.0)\n",
      "Requirement already satisfied: requests<3.0.0,>=2.13.0 in c:\\users\\rhabe\\anaconda3\\envs\\tuwnlpie\\lib\\site-packages (from spacy) (2.28.1)\n",
      "Requirement already satisfied: tqdm<5.0.0,>=4.38.0 in c:\\users\\rhabe\\anaconda3\\envs\\tuwnlpie\\lib\\site-packages (from spacy) (4.64.1)\n",
      "Requirement already satisfied: pyparsing!=3.0.5,>=2.0.2 in c:\\users\\rhabe\\anaconda3\\envs\\tuwnlpie\\lib\\site-packages (from packaging>=20.0->spacy) (3.0.9)\n",
      "Requirement already satisfied: smart-open<6.0.0,>=5.2.1 in c:\\users\\rhabe\\anaconda3\\envs\\tuwnlpie\\lib\\site-packages (from pathy>=0.3.5->spacy) (5.2.1)\n",
      "Requirement already satisfied: typing-extensions>=4.1.0 in c:\\users\\rhabe\\anaconda3\\envs\\tuwnlpie\\lib\\site-packages (from pydantic!=1.8,!=1.8.1,<1.11.0,>=1.7.4->spacy) (4.4.0)\n",
      "Requirement already satisfied: idna<4,>=2.5 in c:\\users\\rhabe\\anaconda3\\envs\\tuwnlpie\\lib\\site-packages (from requests<3.0.0,>=2.13.0->spacy) (3.4)\n",
      "Requirement already satisfied: charset-normalizer<3,>=2 in c:\\users\\rhabe\\anaconda3\\envs\\tuwnlpie\\lib\\site-packages (from requests<3.0.0,>=2.13.0->spacy) (2.1.1)\n",
      "Requirement already satisfied: certifi>=2017.4.17 in c:\\users\\rhabe\\anaconda3\\envs\\tuwnlpie\\lib\\site-packages (from requests<3.0.0,>=2.13.0->spacy) (2022.9.24)\n",
      "Requirement already satisfied: urllib3<1.27,>=1.21.1 in c:\\users\\rhabe\\anaconda3\\envs\\tuwnlpie\\lib\\site-packages (from requests<3.0.0,>=2.13.0->spacy) (1.26.13)\n",
      "Requirement already satisfied: confection<1.0.0,>=0.0.1 in c:\\users\\rhabe\\anaconda3\\envs\\tuwnlpie\\lib\\site-packages (from thinc<8.2.0,>=8.1.0->spacy) (0.0.3)\n",
      "Requirement already satisfied: blis<0.8.0,>=0.7.8 in c:\\users\\rhabe\\anaconda3\\envs\\tuwnlpie\\lib\\site-packages (from thinc<8.2.0,>=8.1.0->spacy) (0.7.9)\n",
      "Requirement already satisfied: colorama in c:\\users\\rhabe\\anaconda3\\envs\\tuwnlpie\\lib\\site-packages (from tqdm<5.0.0,>=4.38.0->spacy) (0.4.6)\n",
      "Requirement already satisfied: click<9.0.0,>=7.1.1 in c:\\users\\rhabe\\anaconda3\\envs\\tuwnlpie\\lib\\site-packages (from typer<0.8.0,>=0.3.0->spacy) (8.1.3)\n",
      "Requirement already satisfied: MarkupSafe>=2.0 in c:\\users\\rhabe\\anaconda3\\envs\\tuwnlpie\\lib\\site-packages (from jinja2->spacy) (2.1.1)\n"
     ]
    },
    {
     "name": "stderr",
     "output_type": "stream",
     "text": [
      "WARNING: Ignoring invalid distribution -orch (c:\\users\\rhabe\\anaconda3\\envs\\tuwnlpie\\lib\\site-packages)\n",
      "WARNING: Ignoring invalid distribution -orch (c:\\users\\rhabe\\anaconda3\\envs\\tuwnlpie\\lib\\site-packages)\n",
      "WARNING: Ignoring invalid distribution -orch (c:\\users\\rhabe\\anaconda3\\envs\\tuwnlpie\\lib\\site-packages)\n",
      "WARNING: Ignoring invalid distribution -orch (c:\\users\\rhabe\\anaconda3\\envs\\tuwnlpie\\lib\\site-packages)\n",
      "WARNING: Ignoring invalid distribution -orch (c:\\users\\rhabe\\anaconda3\\envs\\tuwnlpie\\lib\\site-packages)\n",
      "WARNING: Ignoring invalid distribution -orch (c:\\users\\rhabe\\anaconda3\\envs\\tuwnlpie\\lib\\site-packages)\n"
     ]
    }
   ],
   "source": [
    "!pip install torchtext==0.6.0\n",
    "!pip install lime\n",
    "!pip install spacy"
   ]
  },
  {
   "cell_type": "markdown",
   "id": "0013227c",
   "metadata": {
    "id": "0013227c"
   },
   "source": [
    "**We use torchtext version 0.6 because its the last version that is supported in python 3.10 that also includes Fields and LabelFields. We wanted to change it to the newer torchtext functions and classes but we ran into multiple issues so we decided to stick with version 0.6 for now. we will try to change it for the next milestone**"
   ]
  },
  {
   "cell_type": "code",
   "execution_count": 3,
   "id": "4a0bc80c",
   "metadata": {
    "id": "4a0bc80c",
    "outputId": "93eeea5e-42e4-4e08-afbd-6ed75eda3c78"
   },
   "outputs": [
    {
     "name": "stderr",
     "output_type": "stream",
     "text": [
      "C:\\Users\\RHabe\\Anaconda3\\envs\\tuwnlpie\\lib\\site-packages\\tqdm\\auto.py:22: TqdmWarning: IProgress not found. Please update jupyter and ipywidgets. See https://ipywidgets.readthedocs.io/en/stable/user_install.html\n",
      "  from .autonotebook import tqdm as notebook_tqdm\n"
     ]
    },
    {
     "name": "stdout",
     "output_type": "stream",
     "text": [
      "TorchText Version : 0.6.0\n"
     ]
    }
   ],
   "source": [
    "import torchtext\n",
    "print(\"TorchText Version : {}\".format(torchtext.__version__))"
   ]
  },
  {
   "cell_type": "code",
   "execution_count": 4,
   "id": "4a992b25",
   "metadata": {
    "id": "4a992b25",
    "outputId": "46468cf5-5857-4e9b-94c9-41925c21e170"
   },
   "outputs": [
    {
     "name": "stderr",
     "output_type": "stream",
     "text": [
      "[nltk_data] Downloading package stopwords to\n",
      "[nltk_data]     C:\\Users\\RHabe\\AppData\\Roaming\\nltk_data...\n",
      "[nltk_data]   Package stopwords is already up-to-date!\n",
      "[nltk_data] Downloading package punkt to\n",
      "[nltk_data]     C:\\Users\\RHabe\\AppData\\Roaming\\nltk_data...\n",
      "[nltk_data]   Package punkt is already up-to-date!\n",
      "[nltk_data] Downloading package wordnet to\n",
      "[nltk_data]     C:\\Users\\RHabe\\AppData\\Roaming\\nltk_data...\n",
      "[nltk_data]   Package wordnet is already up-to-date!\n",
      "[nltk_data] Downloading package omw-1.4 to\n",
      "[nltk_data]     C:\\Users\\RHabe\\AppData\\Roaming\\nltk_data...\n",
      "[nltk_data]   Package omw-1.4 is already up-to-date!\n"
     ]
    },
    {
     "data": {
      "text/plain": [
       "True"
      ]
     },
     "execution_count": 4,
     "metadata": {},
     "output_type": "execute_result"
    }
   ],
   "source": [
    "import nltk\n",
    "nltk.download('stopwords')\n",
    "nltk.download('punkt')\n",
    "nltk.download('wordnet')\n",
    "nltk.download('omw-1.4')"
   ]
  },
  {
   "cell_type": "code",
   "execution_count": 5,
   "id": "00410710",
   "metadata": {
    "id": "00410710"
   },
   "outputs": [],
   "source": [
    "#from tuwnlpie.milestone2.utils import TreatDiseaseDataset not used anymore because of package version conflict \n",
    "from tuwnlpie.milestone2.model import RNNClassifier\n",
    "from tuwnlpie.milestone2.utils import TrainModel,EvaluatePerformance,get_loaders_lstm, prepare_dataset_lstm\n",
    "import torch\n",
    "from torch.optim import Adam"
   ]
  },
  {
   "cell_type": "markdown",
   "id": "9560a79a",
   "metadata": {
    "id": "9560a79a"
   },
   "source": [
    "# Prepare dataset for RNN and LSTM models"
   ]
  },
  {
   "cell_type": "code",
   "execution_count": 6,
   "id": "9c5d83aa",
   "metadata": {
    "id": "9c5d83aa",
    "outputId": "a6971a5c-fe0d-4183-b7b6-615e86a250d6"
   },
   "outputs": [
    {
     "data": {
      "text/plain": [
       "<torch._C.Generator at 0x2327ad2b1d0>"
      ]
     },
     "execution_count": 6,
     "metadata": {},
     "output_type": "execute_result"
    }
   ],
   "source": [
    "torch.manual_seed(1234)"
   ]
  },
  {
   "cell_type": "code",
   "execution_count": 7,
   "id": "afbe6d1f",
   "metadata": {
    "id": "afbe6d1f"
   },
   "outputs": [],
   "source": [
    "# run this to prepare dataset for training with lstm and create train, valid and test csv files in data\n",
    "prepare_dataset_lstm()"
   ]
  },
  {
   "cell_type": "code",
   "execution_count": 8,
   "id": "29a1ba40",
   "metadata": {
    "id": "29a1ba40"
   },
   "outputs": [],
   "source": [
    "# loaders for dataset, transformed into the format for torch usage\n",
    "device=torch.device(\"cuda\" if torch.cuda.is_available() else \"cpu\")\n",
    "batch_size=32\n",
    "train_loader, valid_loader, test_loader, vocab_length = get_loaders_lstm(batch_size=batch_size, device=device)"
   ]
  },
  {
   "cell_type": "markdown",
   "id": "019933fa",
   "metadata": {
    "id": "019933fa"
   },
   "source": [
    "## Approach 1: Single RNN Layer"
   ]
  },
  {
   "cell_type": "code",
   "execution_count": 9,
   "id": "277e1473",
   "metadata": {
    "id": "277e1473",
    "outputId": "a50df75d-08f6-42ad-e938-7428781cee1f"
   },
   "outputs": [
    {
     "data": {
      "text/plain": [
       "RNNClassifier(\n",
       "  (embedding_layer): Embedding(588, 50)\n",
       "  (rnn): RNN(50, 50, batch_first=True)\n",
       "  (linear): Linear(in_features=50, out_features=3, bias=True)\n",
       ")"
      ]
     },
     "execution_count": 9,
     "metadata": {},
     "output_type": "execute_result"
    }
   ],
   "source": [
    "embed_len = 50\n",
    "hidden_dim = 50\n",
    "n_layers=1\n",
    "target_classes = [\"cause\", \"treat\", \"neutral\"]\n",
    "rnn_classifier = RNNClassifier(embed_len,hidden_dim,n_layers,target_classes,vocab_length)\n",
    "rnn_classifier"
   ]
  },
  {
   "cell_type": "code",
   "execution_count": 10,
   "id": "d2f14619",
   "metadata": {
    "id": "d2f14619",
    "outputId": "97bf08e2-8d54-4a52-c549-910e357abc5d"
   },
   "outputs": [
    {
     "name": "stdout",
     "output_type": "stream",
     "text": [
      "Train Loss : 1.024\n",
      "Valid Loss : 1.177\n",
      "Valid Acc  : 0.533\n",
      "Train Loss : 1.067\n",
      "Valid Loss : 1.034\n",
      "Valid Acc  : 0.557\n",
      "Train Loss : 0.869\n",
      "Valid Loss : 1.070\n",
      "Valid Acc  : 0.525\n",
      "Train Loss : 0.704\n",
      "Valid Loss : 1.200\n",
      "Valid Acc  : 0.443\n",
      "Train Loss : 0.561\n",
      "Valid Loss : 1.219\n",
      "Valid Acc  : 0.492\n",
      "Train Loss : 0.392\n",
      "Valid Loss : 1.423\n",
      "Valid Acc  : 0.393\n",
      "Train Loss : 0.248\n",
      "Valid Loss : 1.951\n",
      "Valid Acc  : 0.410\n",
      "Train Loss : 0.327\n",
      "Valid Loss : 1.789\n",
      "Valid Acc  : 0.369\n",
      "Train Loss : 0.431\n",
      "Valid Loss : 1.423\n",
      "Valid Acc  : 0.525\n",
      "Train Loss : 0.521\n",
      "Valid Loss : 1.402\n",
      "Valid Acc  : 0.426\n",
      "Train Loss : 0.364\n",
      "Valid Loss : 1.466\n",
      "Valid Acc  : 0.492\n",
      "Train Loss : 0.342\n",
      "Valid Loss : 2.191\n",
      "Valid Acc  : 0.369\n",
      "Train Loss : 0.217\n",
      "Valid Loss : 2.112\n",
      "Valid Acc  : 0.443\n",
      "Train Loss : 0.357\n",
      "Valid Loss : 1.796\n",
      "Valid Acc  : 0.352\n",
      "Train Loss : 0.363\n",
      "Valid Loss : 1.336\n",
      "Valid Acc  : 0.475\n"
     ]
    }
   ],
   "source": [
    "epochs = 15\n",
    "learning_rate = 0.01\n",
    "optimizer = Adam(rnn_classifier.parameters(), lr=learning_rate)\n",
    "\n",
    "TrainModel(rnn_classifier, optimizer, train_loader, test_loader, epochs)"
   ]
  },
  {
   "cell_type": "code",
   "execution_count": 11,
   "id": "2c806ce7",
   "metadata": {
    "id": "2c806ce7",
    "outputId": "a2e99952-e9b3-494e-f42a-f0f9a54ba1a5"
   },
   "outputs": [
    {
     "name": "stdout",
     "output_type": "stream",
     "text": [
      "Test Accuracy : 0.48360655737704916\n",
      "\n",
      "Classification Report : \n",
      "              precision    recall  f1-score   support\n",
      "\n",
      "       cause       0.13      0.07      0.09        28\n",
      "       treat       0.54      0.85      0.66        65\n",
      "     neutral       0.33      0.07      0.11        29\n",
      "\n",
      "    accuracy                           0.48       122\n",
      "   macro avg       0.34      0.33      0.29       122\n",
      "weighted avg       0.40      0.48      0.40       122\n",
      "\n",
      "\n",
      "Confusion Matrix : \n",
      "[[ 2 23  3]\n",
      " [ 9 55  1]\n",
      " [ 4 23  2]]\n"
     ]
    }
   ],
   "source": [
    "EvaluatePerformance(rnn_classifier, test_loader,target_classes)"
   ]
  },
  {
   "cell_type": "markdown",
   "id": "fc573c27",
   "metadata": {
    "id": "fc573c27"
   },
   "source": [
    "## Approach 2: Multiple RNN Layers"
   ]
  },
  {
   "cell_type": "code",
   "execution_count": 12,
   "id": "9d95616e",
   "metadata": {
    "id": "9d95616e",
    "outputId": "1b732185-3609-4c43-b565-a1f57dae47ef"
   },
   "outputs": [
    {
     "data": {
      "text/plain": [
       "RNNClassifier(\n",
       "  (embedding_layer): Embedding(588, 20)\n",
       "  (rnn): RNN(20, 50, num_layers=3, batch_first=True)\n",
       "  (linear): Linear(in_features=50, out_features=3, bias=True)\n",
       ")"
      ]
     },
     "execution_count": 12,
     "metadata": {},
     "output_type": "execute_result"
    }
   ],
   "source": [
    "embed_len = 20\n",
    "hidden_dim = 50\n",
    "n_layers=3\n",
    "\n",
    "rnn_classifier = RNNClassifier(embed_len,hidden_dim,n_layers,target_classes,vocab_length)\n",
    "rnn_classifier"
   ]
  },
  {
   "cell_type": "code",
   "execution_count": 13,
   "id": "61d584fc",
   "metadata": {
    "id": "61d584fc",
    "outputId": "96e53282-9c42-49c3-bfe4-e67422758087"
   },
   "outputs": [
    {
     "name": "stdout",
     "output_type": "stream",
     "text": [
      "Train Loss : 1.007\n",
      "Valid Loss : 1.045\n",
      "Valid Acc  : 0.533\n",
      "Train Loss : 1.020\n",
      "Valid Loss : 1.010\n",
      "Valid Acc  : 0.541\n",
      "Train Loss : 0.939\n",
      "Valid Loss : 1.028\n",
      "Valid Acc  : 0.516\n",
      "Train Loss : 0.910\n",
      "Valid Loss : 1.051\n",
      "Valid Acc  : 0.508\n",
      "Train Loss : 0.869\n",
      "Valid Loss : 1.102\n",
      "Valid Acc  : 0.508\n",
      "Train Loss : 0.806\n",
      "Valid Loss : 1.199\n",
      "Valid Acc  : 0.500\n",
      "Train Loss : 0.762\n",
      "Valid Loss : 1.209\n",
      "Valid Acc  : 0.475\n",
      "Train Loss : 0.705\n",
      "Valid Loss : 1.277\n",
      "Valid Acc  : 0.467\n",
      "Train Loss : 0.633\n",
      "Valid Loss : 1.355\n",
      "Valid Acc  : 0.475\n",
      "Train Loss : 0.619\n",
      "Valid Loss : 1.393\n",
      "Valid Acc  : 0.467\n",
      "Train Loss : 0.535\n",
      "Valid Loss : 1.422\n",
      "Valid Acc  : 0.484\n",
      "Train Loss : 0.505\n",
      "Valid Loss : 1.507\n",
      "Valid Acc  : 0.475\n",
      "Train Loss : 0.533\n",
      "Valid Loss : 1.490\n",
      "Valid Acc  : 0.434\n",
      "Train Loss : 0.482\n",
      "Valid Loss : 1.455\n",
      "Valid Acc  : 0.451\n",
      "Train Loss : 0.420\n",
      "Valid Loss : 1.478\n",
      "Valid Acc  : 0.451\n"
     ]
    }
   ],
   "source": [
    "epochs = 15\n",
    "learning_rate = 1e-3\n",
    "optimizer = Adam(rnn_classifier.parameters(), lr=learning_rate)\n",
    "\n",
    "TrainModel(rnn_classifier, optimizer, train_loader, test_loader, epochs)"
   ]
  },
  {
   "cell_type": "code",
   "execution_count": 14,
   "id": "d9f341eb",
   "metadata": {
    "id": "d9f341eb",
    "outputId": "028364eb-b4d3-40d0-ee6c-1f0cdc4b0793"
   },
   "outputs": [
    {
     "name": "stdout",
     "output_type": "stream",
     "text": [
      "Test Accuracy : 0.4672131147540984\n",
      "\n",
      "Classification Report : \n",
      "              precision    recall  f1-score   support\n",
      "\n",
      "       cause       0.26      0.25      0.25        28\n",
      "       treat       0.58      0.65      0.61        65\n",
      "     neutral       0.36      0.28      0.31        29\n",
      "\n",
      "    accuracy                           0.47       122\n",
      "   macro avg       0.40      0.39      0.39       122\n",
      "weighted avg       0.45      0.47      0.46       122\n",
      "\n",
      "\n",
      "Confusion Matrix : \n",
      "[[ 7 17  4]\n",
      " [13 42 10]\n",
      " [ 7 14  8]]\n"
     ]
    }
   ],
   "source": [
    "EvaluatePerformance(rnn_classifier, test_loader,target_classes)"
   ]
  },
  {
   "cell_type": "markdown",
   "id": "77f0bbfc",
   "metadata": {
    "id": "77f0bbfc"
   },
   "source": [
    "## Approach 3: Stacking Multiple RNN Layers (Tokens Per Text Example=15, Embeddings Length=20, different sizes for hidden layers)"
   ]
  },
  {
   "cell_type": "code",
   "execution_count": 15,
   "id": "520770d3",
   "metadata": {
    "id": "520770d3",
    "outputId": "d4cd7794-03ef-4809-f600-254cbbb31b6f"
   },
   "outputs": [
    {
     "data": {
      "text/plain": [
       "StackedRNNClassifier(\n",
       "  (embedding_layer): Embedding(588, 20)\n",
       "  (rnn1): RNN(20, 30, batch_first=True)\n",
       "  (rnn2): RNN(30, 40, batch_first=True)\n",
       "  (rnn3): RNN(40, 50, batch_first=True)\n",
       "  (linear): Linear(in_features=50, out_features=3, bias=True)\n",
       ")"
      ]
     },
     "execution_count": 15,
     "metadata": {},
     "output_type": "execute_result"
    }
   ],
   "source": [
    "from tuwnlpie.milestone2.model import StackedRNNClassifier\n",
    "embed_len = 20\n",
    "hidden_dim = 30\n",
    "n_layers=1\n",
    "\n",
    "rnn_classifier = StackedRNNClassifier(embed_len,hidden_dim,n_layers,target_classes,vocab_length)\n",
    "rnn_classifier"
   ]
  },
  {
   "cell_type": "code",
   "execution_count": 16,
   "id": "12f2c71a",
   "metadata": {
    "id": "12f2c71a",
    "outputId": "0636c1dc-fdf7-4fc7-e240-67005d12fac6"
   },
   "outputs": [
    {
     "name": "stdout",
     "output_type": "stream",
     "text": [
      "Train Loss : 1.019\n",
      "Valid Loss : 1.031\n",
      "Valid Acc  : 0.533\n",
      "Train Loss : 0.994\n",
      "Valid Loss : 1.008\n",
      "Valid Acc  : 0.541\n",
      "Train Loss : 0.946\n",
      "Valid Loss : 1.008\n",
      "Valid Acc  : 0.557\n",
      "Train Loss : 0.895\n",
      "Valid Loss : 1.019\n",
      "Valid Acc  : 0.566\n",
      "Train Loss : 0.921\n",
      "Valid Loss : 0.996\n",
      "Valid Acc  : 0.557\n",
      "Train Loss : 0.840\n",
      "Valid Loss : 1.035\n",
      "Valid Acc  : 0.541\n",
      "Train Loss : 0.802\n",
      "Valid Loss : 1.058\n",
      "Valid Acc  : 0.557\n",
      "Train Loss : 0.764\n",
      "Valid Loss : 1.055\n",
      "Valid Acc  : 0.557\n",
      "Train Loss : 0.702\n",
      "Valid Loss : 1.098\n",
      "Valid Acc  : 0.557\n",
      "Train Loss : 0.668\n",
      "Valid Loss : 1.098\n",
      "Valid Acc  : 0.557\n",
      "Train Loss : 0.627\n",
      "Valid Loss : 1.144\n",
      "Valid Acc  : 0.516\n",
      "Train Loss : 0.586\n",
      "Valid Loss : 1.168\n",
      "Valid Acc  : 0.516\n",
      "Train Loss : 0.536\n",
      "Valid Loss : 1.205\n",
      "Valid Acc  : 0.508\n",
      "Train Loss : 0.496\n",
      "Valid Loss : 1.242\n",
      "Valid Acc  : 0.492\n",
      "Train Loss : 0.464\n",
      "Valid Loss : 1.305\n",
      "Valid Acc  : 0.492\n"
     ]
    }
   ],
   "source": [
    "epochs = 15\n",
    "learning_rate = 1e-3\n",
    "optimizer = Adam(rnn_classifier.parameters(), lr=learning_rate)\n",
    "\n",
    "TrainModel(rnn_classifier, optimizer,  train_loader, test_loader, epochs)"
   ]
  },
  {
   "cell_type": "code",
   "execution_count": 17,
   "id": "9f7ea6ae",
   "metadata": {
    "id": "9f7ea6ae",
    "outputId": "d909dce5-1968-4bad-fb6d-2e5ff952b81c"
   },
   "outputs": [
    {
     "name": "stdout",
     "output_type": "stream",
     "text": [
      "Test Accuracy : 0.4672131147540984\n",
      "\n",
      "Classification Report : \n",
      "              precision    recall  f1-score   support\n",
      "\n",
      "       cause       0.22      0.21      0.22        28\n",
      "       treat       0.57      0.63      0.60        65\n",
      "     neutral       0.43      0.34      0.38        29\n",
      "\n",
      "    accuracy                           0.47       122\n",
      "   macro avg       0.41      0.40      0.40       122\n",
      "weighted avg       0.46      0.47      0.46       122\n",
      "\n",
      "\n",
      "Confusion Matrix : \n",
      "[[ 6 16  6]\n",
      " [17 41  7]\n",
      " [ 4 15 10]]\n"
     ]
    }
   ],
   "source": [
    "EvaluatePerformance(rnn_classifier, test_loader,target_classes)"
   ]
  },
  {
   "cell_type": "markdown",
   "id": "83d1b1de",
   "metadata": {
    "id": "83d1b1de"
   },
   "source": [
    "## Approach 4: Multiple Bidirectional RNN Layers (Tokens Per Text Example=15, Embeddings Length=20) "
   ]
  },
  {
   "cell_type": "code",
   "execution_count": 18,
   "id": "835f46f2",
   "metadata": {
    "id": "835f46f2",
    "outputId": "ec859b28-b26c-49fd-faff-c5b412665add"
   },
   "outputs": [
    {
     "data": {
      "text/plain": [
       "BidirectionalRNNClassifier(\n",
       "  (embedding_layer): Embedding(588, 20)\n",
       "  (rnn): RNN(20, 40, num_layers=3, batch_first=True, bidirectional=True)\n",
       "  (linear): Linear(in_features=80, out_features=3, bias=True)\n",
       ")"
      ]
     },
     "execution_count": 18,
     "metadata": {},
     "output_type": "execute_result"
    }
   ],
   "source": [
    "from tuwnlpie.milestone2.model import BidirectionalRNNClassifier\n",
    "embed_len = 20\n",
    "hidden_dim = 40\n",
    "n_layers=3\n",
    "\n",
    "rnn_classifier = BidirectionalRNNClassifier(embed_len,hidden_dim,n_layers,target_classes,vocab_length)\n",
    "rnn_classifier"
   ]
  },
  {
   "cell_type": "code",
   "execution_count": 19,
   "id": "09aa278a",
   "metadata": {
    "id": "09aa278a",
    "outputId": "2c8ce1ca-2593-4199-b57d-54b9c70ff273"
   },
   "outputs": [
    {
     "name": "stdout",
     "output_type": "stream",
     "text": [
      "Train Loss : 1.100\n",
      "Valid Loss : 1.026\n",
      "Valid Acc  : 0.508\n",
      "Train Loss : 1.036\n",
      "Valid Loss : 1.023\n",
      "Valid Acc  : 0.525\n",
      "Train Loss : 1.023\n",
      "Valid Loss : 1.010\n",
      "Valid Acc  : 0.557\n",
      "Train Loss : 0.998\n",
      "Valid Loss : 1.007\n",
      "Valid Acc  : 0.549\n",
      "Train Loss : 1.007\n",
      "Valid Loss : 0.979\n",
      "Valid Acc  : 0.549\n",
      "Train Loss : 1.002\n",
      "Valid Loss : 1.022\n",
      "Valid Acc  : 0.582\n",
      "Train Loss : 0.978\n",
      "Valid Loss : 0.969\n",
      "Valid Acc  : 0.533\n",
      "Train Loss : 0.973\n",
      "Valid Loss : 0.974\n",
      "Valid Acc  : 0.549\n",
      "Train Loss : 0.943\n",
      "Valid Loss : 0.924\n",
      "Valid Acc  : 0.574\n",
      "Train Loss : 0.940\n",
      "Valid Loss : 0.941\n",
      "Valid Acc  : 0.582\n",
      "Train Loss : 0.911\n",
      "Valid Loss : 0.897\n",
      "Valid Acc  : 0.607\n",
      "Train Loss : 0.903\n",
      "Valid Loss : 0.877\n",
      "Valid Acc  : 0.639\n",
      "Train Loss : 0.892\n",
      "Valid Loss : 0.857\n",
      "Valid Acc  : 0.639\n",
      "Train Loss : 0.854\n",
      "Valid Loss : 0.830\n",
      "Valid Acc  : 0.656\n",
      "Train Loss : 0.796\n",
      "Valid Loss : 0.813\n",
      "Valid Acc  : 0.631\n"
     ]
    }
   ],
   "source": [
    "epochs = 15\n",
    "learning_rate = 1e-3\n",
    "optimizer = Adam(rnn_classifier.parameters(), lr=learning_rate)\n",
    "\n",
    "TrainModel(rnn_classifier, optimizer, test_loader, test_loader, epochs)"
   ]
  },
  {
   "cell_type": "code",
   "execution_count": 20,
   "id": "ff78c988",
   "metadata": {
    "id": "ff78c988",
    "outputId": "2aae714d-e766-4ca4-9900-ee4444acbf05"
   },
   "outputs": [
    {
     "name": "stdout",
     "output_type": "stream",
     "text": [
      "Test Accuracy : 0.6639344262295082\n",
      "\n",
      "Classification Report : \n",
      "              precision    recall  f1-score   support\n",
      "\n",
      "       cause       0.90      0.32      0.47        28\n",
      "       treat       0.62      1.00      0.76        65\n",
      "     neutral       1.00      0.24      0.39        29\n",
      "\n",
      "    accuracy                           0.66       122\n",
      "   macro avg       0.84      0.52      0.54       122\n",
      "weighted avg       0.77      0.66      0.61       122\n",
      "\n",
      "\n",
      "Confusion Matrix : \n",
      "[[ 9 19  0]\n",
      " [ 0 65  0]\n",
      " [ 1 21  7]]\n"
     ]
    }
   ],
   "source": [
    "EvaluatePerformance(rnn_classifier, test_loader,target_classes)"
   ]
  },
  {
   "cell_type": "markdown",
   "id": "f21ba399",
   "metadata": {
    "id": "f21ba399"
   },
   "source": [
    "## Discussion about RNN Models\n",
    "- The first 3 Models performed poor even with multiple layers and we also tested several different parameters for different hidden dimension sizes and batch sizes\n",
    "- last model with bidirectional approach performed better but still not good enough but huge improvement when looking at macro average in comparison to the first 3 models\n",
    "- The dataset is very small and also unbalanced and therefore the higher represented class (treat) is often better classified than the other classes\n",
    "- we may need different optimizers or loss functions that is more robust to unbalanced data and the small sample size\n",
    "- another option to improve results is to include the CrowdTruth dataset which uses similar data with the same target labels. The CrowdTruth dataset has a lot more data and would improve performance\n",
    "- LSTM is an improved version of RNN and therefore we also tested LSTM models"
   ]
  },
  {
   "cell_type": "markdown",
   "id": "a7f0ca2a",
   "metadata": {
    "id": "a7f0ca2a"
   },
   "source": [
    "## Bi-directional LSTM"
   ]
  },
  {
   "cell_type": "markdown",
   "id": "0d59c20f",
   "metadata": {
    "id": "0d59c20f"
   },
   "source": [
    "Bi-direction LSTM is a neuronal network which has a memory part and helps to prevent \"forgetting\" of information which happens in normal neuronal networks. Since this variant of LSTM contains memory parts in both directions (from beginning of text to the end and back), it prevents cases where information learned from the beginning of text gets lost till the end of text.\n",
    "\n",
    "The text in our dataset consists of only one sentence, which means that text input is not very long, which means that information forgetting shouldn't be such an issue and bi-directional lstm is probably an overkill for such simple task. But we wanted to try out how bi-lstm works, so we decided to check how it will perform against other models."
   ]
  },
  {
   "cell_type": "code",
   "execution_count": 21,
   "id": "9084d83d",
   "metadata": {
    "id": "9084d83d"
   },
   "outputs": [],
   "source": [
    "import warnings\n",
    "warnings.filterwarnings('ignore')"
   ]
  },
  {
   "cell_type": "code",
   "execution_count": 22,
   "id": "53c90fce",
   "metadata": {
    "id": "53c90fce"
   },
   "outputs": [],
   "source": [
    "import torch\n",
    "from tuwnlpie.milestone2.model import LSTM\n",
    "from scripts.evaluate import evaluate_lstm\n",
    "from scripts.train import train_lstm\n",
    "from tuwnlpie.milestone2.utils import load_metrics, create_loss_plot, get_loaders_lstm, prepare_dataset_lstm\n",
    "import spacy"
   ]
  },
  {
   "cell_type": "code",
   "execution_count": null,
   "id": "377e5675",
   "metadata": {
    "id": "377e5675",
    "outputId": "8f0cc3f0-dfc9-475c-b92f-75d6adc8cdf7"
   },
   "outputs": [
    {
     "name": "stdout",
     "output_type": "stream",
     "text": [
      "Collecting en-core-web-sm==3.4.1\n",
      "  Downloading https://github.com/explosion/spacy-models/releases/download/en_core_web_sm-3.4.1/en_core_web_sm-3.4.1-py3-none-any.whl (12.8 MB)\n",
      "     --------------------------------------- 12.8/12.8 MB 10.4 MB/s eta 0:00:00\n",
      "Requirement already satisfied: spacy<3.5.0,>=3.4.0 in c:\\users\\rhabe\\anaconda3\\envs\\tuwnlpie\\lib\\site-packages (from en-core-web-sm==3.4.1) (3.4.3)\n",
      "Requirement already satisfied: catalogue<2.1.0,>=2.0.6 in c:\\users\\rhabe\\anaconda3\\envs\\tuwnlpie\\lib\\site-packages (from spacy<3.5.0,>=3.4.0->en-core-web-sm==3.4.1) (2.0.8)\n",
      "Requirement already satisfied: spacy-loggers<2.0.0,>=1.0.0 in c:\\users\\rhabe\\anaconda3\\envs\\tuwnlpie\\lib\\site-packages (from spacy<3.5.0,>=3.4.0->en-core-web-sm==3.4.1) (1.0.3)\n",
      "Requirement already satisfied: murmurhash<1.1.0,>=0.28.0 in c:\\users\\rhabe\\anaconda3\\envs\\tuwnlpie\\lib\\site-packages (from spacy<3.5.0,>=3.4.0->en-core-web-sm==3.4.1) (1.0.9)\n",
      "Requirement already satisfied: typer<0.8.0,>=0.3.0 in c:\\users\\rhabe\\anaconda3\\envs\\tuwnlpie\\lib\\site-packages (from spacy<3.5.0,>=3.4.0->en-core-web-sm==3.4.1) (0.7.0)\n",
      "Requirement already satisfied: jinja2 in c:\\users\\rhabe\\anaconda3\\envs\\tuwnlpie\\lib\\site-packages (from spacy<3.5.0,>=3.4.0->en-core-web-sm==3.4.1) (3.1.2)\n",
      "Requirement already satisfied: packaging>=20.0 in c:\\users\\rhabe\\anaconda3\\envs\\tuwnlpie\\lib\\site-packages (from spacy<3.5.0,>=3.4.0->en-core-web-sm==3.4.1) (21.3)\n",
      "Requirement already satisfied: thinc<8.2.0,>=8.1.0 in c:\\users\\rhabe\\anaconda3\\envs\\tuwnlpie\\lib\\site-packages (from spacy<3.5.0,>=3.4.0->en-core-web-sm==3.4.1) (8.1.5)\n",
      "Requirement already satisfied: setuptools in c:\\users\\rhabe\\anaconda3\\envs\\tuwnlpie\\lib\\site-packages (from spacy<3.5.0,>=3.4.0->en-core-web-sm==3.4.1) (65.5.0)\n",
      "Requirement already satisfied: wasabi<1.1.0,>=0.9.1 in c:\\users\\rhabe\\anaconda3\\envs\\tuwnlpie\\lib\\site-packages (from spacy<3.5.0,>=3.4.0->en-core-web-sm==3.4.1) (0.10.1)\n",
      "Requirement already satisfied: requests<3.0.0,>=2.13.0 in c:\\users\\rhabe\\anaconda3\\envs\\tuwnlpie\\lib\\site-packages (from spacy<3.5.0,>=3.4.0->en-core-web-sm==3.4.1) (2.28.1)\n",
      "Requirement already satisfied: pydantic!=1.8,!=1.8.1,<1.11.0,>=1.7.4 in c:\\users\\rhabe\\anaconda3\\envs\\tuwnlpie\\lib\\site-packages (from spacy<3.5.0,>=3.4.0->en-core-web-sm==3.4.1) (1.10.2)\n",
      "Requirement already satisfied: tqdm<5.0.0,>=4.38.0 in c:\\users\\rhabe\\anaconda3\\envs\\tuwnlpie\\lib\\site-packages (from spacy<3.5.0,>=3.4.0->en-core-web-sm==3.4.1) (4.64.1)\n",
      "Requirement already satisfied: cymem<2.1.0,>=2.0.2 in c:\\users\\rhabe\\anaconda3\\envs\\tuwnlpie\\lib\\site-packages (from spacy<3.5.0,>=3.4.0->en-core-web-sm==3.4.1) (2.0.7)\n",
      "Requirement already satisfied: langcodes<4.0.0,>=3.2.0 in c:\\users\\rhabe\\anaconda3\\envs\\tuwnlpie\\lib\\site-packages (from spacy<3.5.0,>=3.4.0->en-core-web-sm==3.4.1) (3.3.0)\n",
      "Requirement already satisfied: spacy-legacy<3.1.0,>=3.0.10 in c:\\users\\rhabe\\anaconda3\\envs\\tuwnlpie\\lib\\site-packages (from spacy<3.5.0,>=3.4.0->en-core-web-sm==3.4.1) (3.0.10)\n",
      "Requirement already satisfied: pathy>=0.3.5 in c:\\users\\rhabe\\anaconda3\\envs\\tuwnlpie\\lib\\site-packages (from spacy<3.5.0,>=3.4.0->en-core-web-sm==3.4.1) (0.10.0)\n",
      "Requirement already satisfied: numpy>=1.15.0 in c:\\users\\rhabe\\anaconda3\\envs\\tuwnlpie\\lib\\site-packages (from spacy<3.5.0,>=3.4.0->en-core-web-sm==3.4.1) (1.23.3)\n",
      "Requirement already satisfied: srsly<3.0.0,>=2.4.3 in c:\\users\\rhabe\\anaconda3\\envs\\tuwnlpie\\lib\\site-packages (from spacy<3.5.0,>=3.4.0->en-core-web-sm==3.4.1) (2.4.5)\n",
      "Requirement already satisfied: preshed<3.1.0,>=3.0.2 in c:\\users\\rhabe\\anaconda3\\envs\\tuwnlpie\\lib\\site-packages (from spacy<3.5.0,>=3.4.0->en-core-web-sm==3.4.1) (3.0.8)\n",
      "Requirement already satisfied: pyparsing!=3.0.5,>=2.0.2 in c:\\users\\rhabe\\anaconda3\\envs\\tuwnlpie\\lib\\site-packages (from packaging>=20.0->spacy<3.5.0,>=3.4.0->en-core-web-sm==3.4.1) (3.0.9)\n",
      "Requirement already satisfied: smart-open<6.0.0,>=5.2.1 in c:\\users\\rhabe\\anaconda3\\envs\\tuwnlpie\\lib\\site-packages (from pathy>=0.3.5->spacy<3.5.0,>=3.4.0->en-core-web-sm==3.4.1) (5.2.1)\n",
      "Requirement already satisfied: typing-extensions>=4.1.0 in c:\\users\\rhabe\\anaconda3\\envs\\tuwnlpie\\lib\\site-packages (from pydantic!=1.8,!=1.8.1,<1.11.0,>=1.7.4->spacy<3.5.0,>=3.4.0->en-core-web-sm==3.4.1) (4.4.0)\n",
      "Requirement already satisfied: urllib3<1.27,>=1.21.1 in c:\\users\\rhabe\\anaconda3\\envs\\tuwnlpie\\lib\\site-packages (from requests<3.0.0,>=2.13.0->spacy<3.5.0,>=3.4.0->en-core-web-sm==3.4.1) (1.26.13)\n",
      "Requirement already satisfied: idna<4,>=2.5 in c:\\users\\rhabe\\anaconda3\\envs\\tuwnlpie\\lib\\site-packages (from requests<3.0.0,>=2.13.0->spacy<3.5.0,>=3.4.0->en-core-web-sm==3.4.1) (3.4)\n",
      "Requirement already satisfied: charset-normalizer<3,>=2 in c:\\users\\rhabe\\anaconda3\\envs\\tuwnlpie\\lib\\site-packages (from requests<3.0.0,>=2.13.0->spacy<3.5.0,>=3.4.0->en-core-web-sm==3.4.1) (2.1.1)\n",
      "Requirement already satisfied: certifi>=2017.4.17 in c:\\users\\rhabe\\anaconda3\\envs\\tuwnlpie\\lib\\site-packages (from requests<3.0.0,>=2.13.0->spacy<3.5.0,>=3.4.0->en-core-web-sm==3.4.1) (2022.9.24)\n",
      "Requirement already satisfied: blis<0.8.0,>=0.7.8 in c:\\users\\rhabe\\anaconda3\\envs\\tuwnlpie\\lib\\site-packages (from thinc<8.2.0,>=8.1.0->spacy<3.5.0,>=3.4.0->en-core-web-sm==3.4.1) (0.7.9)\n",
      "Requirement already satisfied: confection<1.0.0,>=0.0.1 in c:\\users\\rhabe\\anaconda3\\envs\\tuwnlpie\\lib\\site-packages (from thinc<8.2.0,>=8.1.0->spacy<3.5.0,>=3.4.0->en-core-web-sm==3.4.1) (0.0.3)\n",
      "Requirement already satisfied: colorama in c:\\users\\rhabe\\anaconda3\\envs\\tuwnlpie\\lib\\site-packages (from tqdm<5.0.0,>=4.38.0->spacy<3.5.0,>=3.4.0->en-core-web-sm==3.4.1) (0.4.6)\n",
      "Requirement already satisfied: click<9.0.0,>=7.1.1 in c:\\users\\rhabe\\anaconda3\\envs\\tuwnlpie\\lib\\site-packages (from typer<0.8.0,>=0.3.0->spacy<3.5.0,>=3.4.0->en-core-web-sm==3.4.1) (8.1.3)\n",
      "Requirement already satisfied: MarkupSafe>=2.0 in c:\\users\\rhabe\\anaconda3\\envs\\tuwnlpie\\lib\\site-packages (from jinja2->spacy<3.5.0,>=3.4.0->en-core-web-sm==3.4.1) (2.1.1)\n",
      "[+] Download and installation successful\n",
      "You can now load the package via spacy.load('en_core_web_sm')\n"
     ]
    },
    {
     "name": "stderr",
     "output_type": "stream",
     "text": [
      "WARNING: Ignoring invalid distribution -orch (c:\\users\\rhabe\\anaconda3\\envs\\tuwnlpie\\lib\\site-packages)\n",
      "WARNING: Ignoring invalid distribution -orch (c:\\users\\rhabe\\anaconda3\\envs\\tuwnlpie\\lib\\site-packages)\n",
      "WARNING: Ignoring invalid distribution -orch (c:\\users\\rhabe\\anaconda3\\envs\\tuwnlpie\\lib\\site-packages)\n",
      "WARNING: Ignoring invalid distribution -orch (c:\\users\\rhabe\\anaconda3\\envs\\tuwnlpie\\lib\\site-packages)\n",
      "WARNING: Ignoring invalid distribution -orch (c:\\users\\rhabe\\anaconda3\\envs\\tuwnlpie\\lib\\site-packages)\n",
      "WARNING: Ignoring invalid distribution -orch (c:\\users\\rhabe\\anaconda3\\envs\\tuwnlpie\\lib\\site-packages)\n"
     ]
    }
   ],
   "source": [
    "!python -m spacy download en_core_web_sm"
   ]
  },
  {
   "cell_type": "code",
   "execution_count": null,
   "id": "cc0f9b92",
   "metadata": {
    "id": "cc0f9b92",
    "outputId": "235357ed-efa1-4bb9-e682-551faa281ece"
   },
   "outputs": [
    {
     "name": "stderr",
     "output_type": "stream",
     "text": [
      "2022-12-04 19:42:36,937 : train (122) - INFO - Epoch [1/20], Step [5/65], Train Loss: 1.075, Valid Loss: 1.001\n",
      "2022-12-04 19:42:36,941 : model (141) - INFO - Saved model to: ./data/bi_lstm.pt\n",
      "2022-12-04 19:42:36,942 : utils (282) - INFO - Metrics saved to ./data/bi_lstm_metrics.pt\n",
      "2022-12-04 19:42:37,119 : train (122) - INFO - Epoch [1/20], Step [10/130], Train Loss: 0.976, Valid Loss: 0.901\n",
      "2022-12-04 19:42:37,123 : model (141) - INFO - Saved model to: ./data/bi_lstm.pt\n",
      "2022-12-04 19:42:37,124 : utils (282) - INFO - Metrics saved to ./data/bi_lstm_metrics.pt\n",
      "2022-12-04 19:42:37,314 : train (122) - INFO - Epoch [2/20], Step [15/195], Train Loss: 0.967, Valid Loss: 0.891\n",
      "2022-12-04 19:42:37,318 : model (141) - INFO - Saved model to: ./data/bi_lstm.pt\n",
      "2022-12-04 19:42:37,319 : utils (282) - INFO - Metrics saved to ./data/bi_lstm_metrics.pt\n",
      "2022-12-04 19:42:37,483 : train (122) - INFO - Epoch [2/20], Step [20/260], Train Loss: 0.917, Valid Loss: 0.891\n",
      "2022-12-04 19:42:37,704 : train (122) - INFO - Epoch [2/20], Step [25/325], Train Loss: 0.831, Valid Loss: 0.962\n",
      "2022-12-04 19:42:37,858 : train (122) - INFO - Epoch [3/20], Step [30/390], Train Loss: 0.768, Valid Loss: 0.989\n",
      "2022-12-04 19:42:38,037 : train (122) - INFO - Epoch [3/20], Step [35/455], Train Loss: 0.712, Valid Loss: 1.019\n",
      "2022-12-04 19:42:38,247 : train (122) - INFO - Epoch [4/20], Step [40/520], Train Loss: 0.715, Valid Loss: 0.974\n",
      "2022-12-04 19:42:38,373 : train (122) - INFO - Epoch [4/20], Step [45/585], Train Loss: 0.643, Valid Loss: 0.969\n",
      "2022-12-04 19:42:38,553 : train (122) - INFO - Epoch [4/20], Step [50/650], Train Loss: 0.630, Valid Loss: 1.007\n",
      "2022-12-04 19:42:38,719 : train (122) - INFO - Epoch [5/20], Step [55/715], Train Loss: 0.599, Valid Loss: 1.008\n",
      "2022-12-04 19:42:38,871 : train (122) - INFO - Epoch [5/20], Step [60/780], Train Loss: 0.593, Valid Loss: 0.999\n",
      "2022-12-04 19:42:39,083 : train (122) - INFO - Epoch [5/20], Step [65/845], Train Loss: 0.592, Valid Loss: 0.945\n",
      "2022-12-04 19:42:39,210 : train (122) - INFO - Epoch [6/20], Step [70/910], Train Loss: 0.581, Valid Loss: 0.948\n",
      "2022-12-04 19:42:39,380 : train (122) - INFO - Epoch [6/20], Step [75/975], Train Loss: 0.568, Valid Loss: 0.981\n",
      "2022-12-04 19:42:39,573 : train (122) - INFO - Epoch [7/20], Step [80/1040], Train Loss: 0.588, Valid Loss: 1.000\n",
      "2022-12-04 19:42:39,719 : train (122) - INFO - Epoch [7/20], Step [85/1105], Train Loss: 0.570, Valid Loss: 1.005\n",
      "2022-12-04 19:42:39,927 : train (122) - INFO - Epoch [7/20], Step [90/1170], Train Loss: 0.560, Valid Loss: 0.977\n",
      "2022-12-04 19:42:40,059 : train (122) - INFO - Epoch [8/20], Step [95/1235], Train Loss: 0.563, Valid Loss: 0.937\n",
      "2022-12-04 19:42:40,218 : train (122) - INFO - Epoch [8/20], Step [100/1300], Train Loss: 0.560, Valid Loss: 0.906\n",
      "2022-12-04 19:42:40,420 : train (122) - INFO - Epoch [9/20], Step [105/1365], Train Loss: 0.566, Valid Loss: 0.964\n",
      "2022-12-04 19:42:40,555 : train (122) - INFO - Epoch [9/20], Step [110/1430], Train Loss: 0.558, Valid Loss: 0.982\n",
      "2022-12-04 19:42:40,738 : train (122) - INFO - Epoch [9/20], Step [115/1495], Train Loss: 0.564, Valid Loss: 0.984\n",
      "2022-12-04 19:42:40,898 : train (122) - INFO - Epoch [10/20], Step [120/1560], Train Loss: 0.558, Valid Loss: 0.977\n",
      "2022-12-04 19:42:41,048 : train (122) - INFO - Epoch [10/20], Step [125/1625], Train Loss: 0.560, Valid Loss: 0.988\n",
      "2022-12-04 19:42:41,251 : train (122) - INFO - Epoch [10/20], Step [130/1690], Train Loss: 0.553, Valid Loss: 0.932\n",
      "2022-12-04 19:42:41,370 : train (122) - INFO - Epoch [11/20], Step [135/1755], Train Loss: 0.554, Valid Loss: 0.910\n",
      "2022-12-04 19:42:41,553 : train (122) - INFO - Epoch [11/20], Step [140/1820], Train Loss: 0.553, Valid Loss: 0.903\n",
      "2022-12-04 19:42:41,741 : train (122) - INFO - Epoch [12/20], Step [145/1885], Train Loss: 0.555, Valid Loss: 0.900\n",
      "2022-12-04 19:42:41,890 : train (122) - INFO - Epoch [12/20], Step [150/1950], Train Loss: 0.554, Valid Loss: 0.900\n",
      "2022-12-04 19:42:42,094 : train (122) - INFO - Epoch [12/20], Step [155/2015], Train Loss: 0.555, Valid Loss: 0.892\n",
      "2022-12-04 19:42:42,234 : train (122) - INFO - Epoch [13/20], Step [160/2080], Train Loss: 0.554, Valid Loss: 0.886\n",
      "2022-12-04 19:42:42,237 : model (141) - INFO - Saved model to: ./data/bi_lstm.pt\n",
      "2022-12-04 19:42:42,238 : utils (282) - INFO - Metrics saved to ./data/bi_lstm_metrics.pt\n",
      "2022-12-04 19:42:42,404 : train (122) - INFO - Epoch [13/20], Step [165/2145], Train Loss: 0.554, Valid Loss: 0.877\n",
      "2022-12-04 19:42:42,407 : model (141) - INFO - Saved model to: ./data/bi_lstm.pt\n",
      "2022-12-04 19:42:42,408 : utils (282) - INFO - Metrics saved to ./data/bi_lstm_metrics.pt\n",
      "2022-12-04 19:42:42,611 : train (122) - INFO - Epoch [14/20], Step [170/2210], Train Loss: 0.554, Valid Loss: 0.872\n",
      "2022-12-04 19:42:42,615 : model (141) - INFO - Saved model to: ./data/bi_lstm.pt\n",
      "2022-12-04 19:42:42,616 : utils (282) - INFO - Metrics saved to ./data/bi_lstm_metrics.pt\n",
      "2022-12-04 19:42:42,752 : train (122) - INFO - Epoch [14/20], Step [175/2275], Train Loss: 0.552, Valid Loss: 0.865\n",
      "2022-12-04 19:42:42,756 : model (141) - INFO - Saved model to: ./data/bi_lstm.pt\n",
      "2022-12-04 19:42:42,757 : utils (282) - INFO - Metrics saved to ./data/bi_lstm_metrics.pt\n",
      "2022-12-04 19:42:42,940 : train (122) - INFO - Epoch [14/20], Step [180/2340], Train Loss: 0.553, Valid Loss: 0.867\n",
      "2022-12-04 19:42:43,107 : train (122) - INFO - Epoch [15/20], Step [185/2405], Train Loss: 0.553, Valid Loss: 0.880\n",
      "2022-12-04 19:42:43,259 : train (122) - INFO - Epoch [15/20], Step [190/2470], Train Loss: 0.553, Valid Loss: 0.899\n",
      "2022-12-04 19:42:43,465 : train (122) - INFO - Epoch [15/20], Step [195/2535], Train Loss: 0.553, Valid Loss: 0.897\n",
      "2022-12-04 19:42:43,587 : train (122) - INFO - Epoch [16/20], Step [200/2600], Train Loss: 0.555, Valid Loss: 0.896\n",
      "2022-12-04 19:42:43,770 : train (122) - INFO - Epoch [16/20], Step [205/2665], Train Loss: 0.555, Valid Loss: 0.971\n",
      "2022-12-04 19:42:43,946 : train (122) - INFO - Epoch [17/20], Step [210/2730], Train Loss: 0.556, Valid Loss: 0.930\n",
      "2022-12-04 19:42:44,088 : train (122) - INFO - Epoch [17/20], Step [215/2795], Train Loss: 0.554, Valid Loss: 0.906\n",
      "2022-12-04 19:42:44,298 : train (122) - INFO - Epoch [17/20], Step [220/2860], Train Loss: 0.552, Valid Loss: 0.883\n",
      "2022-12-04 19:42:44,429 : train (122) - INFO - Epoch [18/20], Step [225/2925], Train Loss: 0.552, Valid Loss: 0.863\n",
      "2022-12-04 19:42:44,432 : model (141) - INFO - Saved model to: ./data/bi_lstm.pt\n",
      "2022-12-04 19:42:44,434 : utils (282) - INFO - Metrics saved to ./data/bi_lstm_metrics.pt\n",
      "2022-12-04 19:42:44,595 : train (122) - INFO - Epoch [18/20], Step [230/2990], Train Loss: 0.552, Valid Loss: 0.854\n",
      "2022-12-04 19:42:44,598 : model (141) - INFO - Saved model to: ./data/bi_lstm.pt\n",
      "2022-12-04 19:42:44,599 : utils (282) - INFO - Metrics saved to ./data/bi_lstm_metrics.pt\n",
      "2022-12-04 19:42:44,797 : train (122) - INFO - Epoch [19/20], Step [235/3055], Train Loss: 0.554, Valid Loss: 0.862\n",
      "2022-12-04 19:42:44,931 : train (122) - INFO - Epoch [19/20], Step [240/3120], Train Loss: 0.552, Valid Loss: 0.874\n",
      "2022-12-04 19:42:45,114 : train (122) - INFO - Epoch [19/20], Step [245/3185], Train Loss: 0.552, Valid Loss: 0.870\n",
      "2022-12-04 19:42:45,273 : train (122) - INFO - Epoch [20/20], Step [250/3250], Train Loss: 0.552, Valid Loss: 0.869\n",
      "2022-12-04 19:42:45,423 : train (122) - INFO - Epoch [20/20], Step [255/3315], Train Loss: 0.553, Valid Loss: 0.870\n",
      "2022-12-04 19:42:45,644 : train (122) - INFO - Epoch [20/20], Step [260/3380], Train Loss: 0.552, Valid Loss: 0.866\n",
      "2022-12-04 19:42:45,645 : train (179) - INFO - Training finished\n",
      "2022-12-04 19:42:45,646 : utils (282) - INFO - Metrics saved to ./data/bi_lstm_metrics.pt\n"
     ]
    }
   ],
   "source": [
    "# uncomment this line to train new model\n",
    "#model = LSTM(vocab_length=vocab_length, dropout_rate=0.5).to(device)\n",
    "#optimizer = torch.optim.Adam(model.parameters(), lr=0.01)\n",
    "#train_lstm(model=model, optimizer=optimizer, num_epochs=20, train_loader=train_loader, valid_loader=valid_loader, device=device)"
   ]
  },
  {
   "cell_type": "code",
   "execution_count": 23,
   "id": "d062dab1",
   "metadata": {
    "id": "d062dab1",
    "outputId": "f8018c07-9d86-4f61-ca35-ec04400f25c4"
   },
   "outputs": [
    {
     "name": "stderr",
     "output_type": "stream",
     "text": [
      "2022-12-04 23:41:36,993 : utils (312) - INFO - Metrics loaded from: ./data/bi_lstm_metrics.pt\n"
     ]
    },
    {
     "data": {
      "image/png": "[encoded data removed]",
      "text/plain": [
       "<Figure size 1000x800 with 1 Axes>"
      ]
     },
     "metadata": {},
     "output_type": "display_data"
    }
   ],
   "source": [
    "train_loss, valid_loss, steps = load_metrics('./data/bi_lstm_metrics.pt')\n",
    "create_loss_plot(train_loss, valid_loss, steps)"
   ]
  },
  {
   "cell_type": "code",
   "execution_count": 24,
   "id": "f1446c40",
   "metadata": {
    "id": "f1446c40",
    "outputId": "a6046af7-3486-42eb-8da5-332c39181275"
   },
   "outputs": [
    {
     "name": "stderr",
     "output_type": "stream",
     "text": [
      "2022-12-04 23:41:39,611 : model (148) - INFO - Loaded model from: ./data/bi_lstm.pt\n",
      "2022-12-04 23:41:39,647 : evaluate (111) - INFO - Classification report:\n"
     ]
    },
    {
     "name": "stdout",
     "output_type": "stream",
     "text": [
      "              precision    recall  f1-score   support\n",
      "\n",
      "           0       0.81      0.61      0.69        28\n",
      "           1       0.72      0.97      0.82        65\n",
      "           2       0.85      0.38      0.52        29\n",
      "\n",
      "    accuracy                           0.75       122\n",
      "   macro avg       0.79      0.65      0.68       122\n",
      "weighted avg       0.77      0.75      0.72       122\n",
      "\n"
     ]
    },
    {
     "data": {
      "image/png": "[encoded data removed]",
      "text/plain": [
       "<Figure size 640x480 with 2 Axes>"
      ]
     },
     "metadata": {},
     "output_type": "display_data"
    }
   ],
   "source": [
    "# load and evaluate best model\n",
    "best_model = LSTM(588).to(device)\n",
    "\n",
    "best_model.load('./data/bi_lstm.pt', device)\n",
    "evaluate_lstm(best_model, test_loader, device=device)"
   ]
  },
  {
   "cell_type": "markdown",
   "id": "4a9b5006",
   "metadata": {
    "id": "4a9b5006"
   },
   "source": [
    "## Discussion about LSTM Models\n",
    "- The model showed a slighly improved accuracy in comparison to SVM baseline models from Milestone 1 \n",
    "- Unfortunately just as baseline method it favores the treat class since it is overrepresented in the dataset.\n",
    "- the performance of the LSTM was a lot better in comparison to the RNN models\n",
    "- for the LSTM we included Softmax rescaling for the model which improved performance\n",
    "- while the performance for the treat labels was great (0.97 acc) for cause labels it was low (0.38) and other false predictions were often predicted as \"treat\" labels"
   ]
  },
  {
   "cell_type": "markdown",
   "id": "ZYs9qyzcOp9T",
   "metadata": {
    "id": "ZYs9qyzcOp9T"
   },
   "source": [
    "# Basic LSTM classifier"
   ]
  },
  {
   "cell_type": "markdown",
   "id": "LFDvk0XBOtEH",
   "metadata": {
    "id": "LFDvk0XBOtEH"
   },
   "source": [
    "This is a basic LSTM classifier model which is used for multi class slassification problems. Unlike the fisrt bi-LSTM model presented, the basic LSTM's input flows only in one direction and it is only capable of utilizing information from one side. \n",
    "\n",
    "This model contains only a dropout layer to prevent overfitting,  an embedding layer to convert sentences to vectors, an LSTM layer to learn the features and finally a linear layer to map LSTM  features to three classes. "
   ]
  },
  {
   "cell_type": "code",
   "execution_count": 25,
   "id": "m0t7gkIQOvmE",
   "metadata": {
    "id": "m0t7gkIQOvmE"
   },
   "outputs": [],
   "source": [
    "import torch\n",
    "from tuwnlpie.milestone2.model import LSTMClassifier\n",
    "from scripts.evaluate import evaluate_lstm\n",
    "from scripts.train import train_lstm\n",
    "from tuwnlpie.milestone2.utils import load_metrics, create_loss_plot, get_loaders_lstm, prepare_dataset_lstm"
   ]
  },
  {
   "cell_type": "code",
   "execution_count": 27,
   "id": "_JL3FvIaIwvt",
   "metadata": {
    "id": "_JL3FvIaIwvt"
   },
   "outputs": [],
   "source": [
    "model2 = LSTMClassifier(vocab_size=vocab_length).to(device)\n",
    "optimizer2 = torch.optim.Adam(model2.parameters(), lr=0.01 )"
   ]
  },
  {
   "cell_type": "code",
   "execution_count": 32,
   "id": "L1VqnC0PI5kC",
   "metadata": {
    "colab": {
     "base_uri": "https://localhost:8080/"
    },
    "id": "L1VqnC0PI5kC",
    "outputId": "d1a07f13-b8aa-413a-892c-828e76497e36"
   },
   "outputs": [
    {
     "name": "stderr",
     "output_type": "stream",
     "text": [
      "2022-12-04 23:43:11,172 : train (122) - INFO - Epoch [1/15], Step [5/65], Train Loss: 0.006, Valid Loss: 1.765\n",
      "2022-12-04 23:43:11,175 : model (190) - INFO - Saved model to: ./data/bi_lstm.pt\n",
      "2022-12-04 23:43:11,176 : utils (304) - INFO - Metrics saved to ./data/bi_lstm_metrics.pt\n",
      "2022-12-04 23:43:11,240 : train (122) - INFO - Epoch [1/15], Step [10/130], Train Loss: 0.006, Valid Loss: 1.763\n",
      "2022-12-04 23:43:11,243 : model (190) - INFO - Saved model to: ./data/bi_lstm.pt\n",
      "2022-12-04 23:43:11,244 : utils (304) - INFO - Metrics saved to ./data/bi_lstm_metrics.pt\n",
      "2022-12-04 23:43:11,321 : train (122) - INFO - Epoch [2/15], Step [15/195], Train Loss: 0.018, Valid Loss: 1.577\n",
      "2022-12-04 23:43:11,323 : model (190) - INFO - Saved model to: ./data/bi_lstm.pt\n",
      "2022-12-04 23:43:11,324 : utils (304) - INFO - Metrics saved to ./data/bi_lstm_metrics.pt\n",
      "2022-12-04 23:43:11,379 : train (122) - INFO - Epoch [2/15], Step [20/260], Train Loss: 0.023, Valid Loss: 1.788\n",
      "2022-12-04 23:43:11,450 : train (122) - INFO - Epoch [2/15], Step [25/325], Train Loss: 0.017, Valid Loss: 2.145\n",
      "2022-12-04 23:43:11,509 : train (122) - INFO - Epoch [3/15], Step [30/390], Train Loss: 0.010, Valid Loss: 2.192\n",
      "2022-12-04 23:43:11,572 : train (122) - INFO - Epoch [3/15], Step [35/455], Train Loss: 0.008, Valid Loss: 2.153\n",
      "2022-12-04 23:43:11,648 : train (122) - INFO - Epoch [4/15], Step [40/520], Train Loss: 0.048, Valid Loss: 2.082\n",
      "2022-12-04 23:43:11,695 : train (122) - INFO - Epoch [4/15], Step [45/585], Train Loss: 0.004, Valid Loss: 2.039\n",
      "2022-12-04 23:43:11,765 : train (122) - INFO - Epoch [4/15], Step [50/650], Train Loss: 0.030, Valid Loss: 2.081\n",
      "2022-12-04 23:43:11,835 : train (122) - INFO - Epoch [5/15], Step [55/715], Train Loss: 0.006, Valid Loss: 2.207\n",
      "2022-12-04 23:43:11,889 : train (122) - INFO - Epoch [5/15], Step [60/780], Train Loss: 0.024, Valid Loss: 2.370\n",
      "2022-12-04 23:43:11,968 : train (122) - INFO - Epoch [5/15], Step [65/845], Train Loss: 0.003, Valid Loss: 2.371\n",
      "2022-12-04 23:43:12,016 : train (122) - INFO - Epoch [6/15], Step [70/910], Train Loss: 0.013, Valid Loss: 2.217\n",
      "2022-12-04 23:43:12,077 : train (122) - INFO - Epoch [6/15], Step [75/975], Train Loss: 0.015, Valid Loss: 1.983\n",
      "2022-12-04 23:43:12,149 : train (122) - INFO - Epoch [7/15], Step [80/1040], Train Loss: 0.011, Valid Loss: 2.096\n",
      "2022-12-04 23:43:12,201 : train (122) - INFO - Epoch [7/15], Step [85/1105], Train Loss: 0.008, Valid Loss: 2.289\n",
      "2022-12-04 23:43:12,276 : train (122) - INFO - Epoch [7/15], Step [90/1170], Train Loss: 0.020, Valid Loss: 2.239\n",
      "2022-12-04 23:43:12,328 : train (122) - INFO - Epoch [8/15], Step [95/1235], Train Loss: 0.006, Valid Loss: 2.455\n",
      "2022-12-04 23:43:12,384 : train (122) - INFO - Epoch [8/15], Step [100/1300], Train Loss: 0.032, Valid Loss: 2.573\n",
      "2022-12-04 23:43:12,459 : train (122) - INFO - Epoch [9/15], Step [105/1365], Train Loss: 0.008, Valid Loss: 2.482\n",
      "2022-12-04 23:43:12,514 : train (122) - INFO - Epoch [9/15], Step [110/1430], Train Loss: 0.005, Valid Loss: 2.413\n",
      "2022-12-04 23:43:12,584 : train (122) - INFO - Epoch [9/15], Step [115/1495], Train Loss: 0.025, Valid Loss: 2.333\n",
      "2022-12-04 23:43:12,643 : train (122) - INFO - Epoch [10/15], Step [120/1560], Train Loss: 0.010, Valid Loss: 2.379\n",
      "2022-12-04 23:43:12,700 : train (122) - INFO - Epoch [10/15], Step [125/1625], Train Loss: 0.016, Valid Loss: 2.302\n",
      "2022-12-04 23:43:12,779 : train (122) - INFO - Epoch [10/15], Step [130/1690], Train Loss: 0.005, Valid Loss: 2.257\n",
      "2022-12-04 23:43:12,831 : train (122) - INFO - Epoch [11/15], Step [135/1755], Train Loss: 0.017, Valid Loss: 2.253\n",
      "2022-12-04 23:43:12,890 : train (122) - INFO - Epoch [11/15], Step [140/1820], Train Loss: 0.009, Valid Loss: 2.364\n",
      "2022-12-04 23:43:12,957 : train (122) - INFO - Epoch [12/15], Step [145/1885], Train Loss: 0.005, Valid Loss: 2.480\n",
      "2022-12-04 23:43:13,006 : train (122) - INFO - Epoch [12/15], Step [150/1950], Train Loss: 0.003, Valid Loss: 2.550\n",
      "2022-12-04 23:43:13,082 : train (122) - INFO - Epoch [12/15], Step [155/2015], Train Loss: 0.027, Valid Loss: 2.494\n",
      "2022-12-04 23:43:13,133 : train (122) - INFO - Epoch [13/15], Step [160/2080], Train Loss: 0.005, Valid Loss: 2.487\n",
      "2022-12-04 23:43:13,199 : train (122) - INFO - Epoch [13/15], Step [165/2145], Train Loss: 0.017, Valid Loss: 2.583\n",
      "2022-12-04 23:43:13,276 : train (122) - INFO - Epoch [14/15], Step [170/2210], Train Loss: 0.019, Valid Loss: 2.134\n",
      "2022-12-04 23:43:13,324 : train (122) - INFO - Epoch [14/15], Step [175/2275], Train Loss: 0.006, Valid Loss: 1.906\n",
      "2022-12-04 23:43:13,392 : train (122) - INFO - Epoch [14/15], Step [180/2340], Train Loss: 0.004, Valid Loss: 1.834\n",
      "2022-12-04 23:43:13,451 : train (122) - INFO - Epoch [15/15], Step [185/2405], Train Loss: 0.002, Valid Loss: 1.807\n",
      "2022-12-04 23:43:13,509 : train (122) - INFO - Epoch [15/15], Step [190/2470], Train Loss: 0.003, Valid Loss: 1.796\n",
      "2022-12-04 23:43:13,582 : train (122) - INFO - Epoch [15/15], Step [195/2535], Train Loss: 0.003, Valid Loss: 1.790\n",
      "2022-12-04 23:43:13,583 : train (179) - INFO - Training finished\n",
      "2022-12-04 23:43:13,584 : utils (304) - INFO - Metrics saved to ./data/bi_lstm_metrics.pt\n"
     ]
    }
   ],
   "source": [
    "train_lstm(model=model2, optimizer=optimizer2, num_epochs=15, train_loader=train_loader, valid_loader=valid_loader)"
   ]
  },
  {
   "cell_type": "code",
   "execution_count": 33,
   "id": "_NPIbAQHI9Qo",
   "metadata": {
    "colab": {
     "base_uri": "https://localhost:8080/",
     "height": 530
    },
    "id": "_NPIbAQHI9Qo",
    "outputId": "8bf6cc6e-6e7c-4c11-ed91-2cc76a7d62ac"
   },
   "outputs": [
    {
     "name": "stderr",
     "output_type": "stream",
     "text": [
      "2022-12-04 23:43:16,405 : utils (312) - INFO - Metrics loaded from: ./data/lstm_metrics.pt\n"
     ]
    },
    {
     "data": {
      "image/png": "[encoded data removed]",
      "text/plain": [
       "<Figure size 1000x800 with 1 Axes>"
      ]
     },
     "metadata": {},
     "output_type": "display_data"
    }
   ],
   "source": [
    "train_loss, valid_loss, steps = load_metrics('./data/lstm_metrics.pt')\n",
    "create_loss_plot(train_loss, valid_loss, steps)"
   ]
  },
  {
   "cell_type": "code",
   "execution_count": 37,
   "id": "__E9OEKuJATx",
   "metadata": {
    "colab": {
     "base_uri": "https://localhost:8080/",
     "height": 503
    },
    "id": "__E9OEKuJATx",
    "outputId": "43211d2f-f357-421f-d651-d0bdbb274491"
   },
   "outputs": [
    {
     "name": "stderr",
     "output_type": "stream",
     "text": [
      "2022-12-04 23:44:13,966 : evaluate (111) - INFO - Classification report:\n"
     ]
    },
    {
     "name": "stdout",
     "output_type": "stream",
     "text": [
      "              precision    recall  f1-score   support\n",
      "\n",
      "           0       0.27      0.54      0.36        28\n",
      "           1       0.29      0.03      0.06        65\n",
      "           2       0.36      0.72      0.48        29\n",
      "\n",
      "    accuracy                           0.31       122\n",
      "   macro avg       0.30      0.43      0.30       122\n",
      "weighted avg       0.30      0.31      0.23       122\n",
      "\n"
     ]
    },
    {
     "data": {
      "image/png": "[encoded data removed]",
      "text/plain": [
       "<Figure size 640x480 with 2 Axes>"
      ]
     },
     "metadata": {},
     "output_type": "display_data"
    }
   ],
   "source": [
    "best_model = LSTMClassifier(588).to(device)\n",
    "#best_model.load('./data/lstm.pt', device)\n",
    "evaluate_lstm(best_model, test_loader)"
   ]
  },
  {
   "cell_type": "markdown",
   "id": "Rx6dK59wRng2",
   "metadata": {
    "id": "Rx6dK59wRng2"
   },
   "source": [
    "Not as expected, this model did not perform better than the bi-directional LSTM. Still, the class with the highest accuracy prediction is the treat class, followed by the cause and finally the neutral class. This is somehow expected, as the same thing has happened in the other models, because of the data being imbalanced. \n",
    "Overcoming of the imbalanced dataset, may be treated as part of the future milestones, where methods soch as oversampling or undersampling the classes to have almost equally distributed classes among the dataset. "
   ]
  },
  {
   "cell_type": "markdown",
   "id": "be057922",
   "metadata": {
    "id": "be057922"
   },
   "source": [
    "# Simple baseline model using binary classification"
   ]
  },
  {
   "cell_type": "markdown",
   "id": "d6a3a60a",
   "metadata": {
    "id": "d6a3a60a"
   },
   "source": [
    "**We also wanted to include a baseline approach for a binary classification. We used tensorflow package for this approach.**"
   ]
  },
  {
   "cell_type": "code",
   "execution_count": null,
   "id": "bdfac35a",
   "metadata": {
    "id": "bdfac35a",
    "outputId": "73b3fbfe-72d7-4062-b3cc-9fdf0b3abbb4"
   },
   "outputs": [
    {
     "name": "stdout",
     "output_type": "stream",
     "text": [
      "Collecting tensorflow\n",
      "  Downloading tensorflow-2.11.0-cp310-cp310-win_amd64.whl (1.9 kB)\n",
      "Collecting tensorflow-intel==2.11.0\n",
      "  Downloading tensorflow_intel-2.11.0-cp310-cp310-win_amd64.whl (266.3 MB)\n",
      "     -------------------------------------- 266.3/266.3 MB 3.4 MB/s eta 0:00:00\n",
      "Collecting tensorflow-estimator<2.12,>=2.11.0\n",
      "  Downloading tensorflow_estimator-2.11.0-py2.py3-none-any.whl (439 kB)\n",
      "     -------------------------------------- 439.2/439.2 kB 9.1 MB/s eta 0:00:00\n",
      "Collecting flatbuffers>=2.0\n",
      "  Downloading flatbuffers-22.11.23-py2.py3-none-any.whl (26 kB)\n",
      "Collecting astunparse>=1.6.0\n",
      "  Downloading astunparse-1.6.3-py2.py3-none-any.whl (12 kB)\n",
      "Collecting libclang>=13.0.0\n",
      "  Downloading libclang-14.0.6-py2.py3-none-win_amd64.whl (14.2 MB)\n",
      "     --------------------------------------- 14.2/14.2 MB 10.5 MB/s eta 0:00:00\n",
      "Requirement already satisfied: numpy>=1.20 in c:\\users\\rhabe\\anaconda3\\envs\\tuwnlpie\\lib\\site-packages (from tensorflow-intel==2.11.0->tensorflow) (1.23.3)\n",
      "Collecting tensorboard<2.12,>=2.11\n",
      "  Downloading tensorboard-2.11.0-py3-none-any.whl (6.0 MB)\n",
      "     ---------------------------------------- 6.0/6.0 MB 10.6 MB/s eta 0:00:00\n",
      "Collecting grpcio<2.0,>=1.24.3\n",
      "  Downloading grpcio-1.51.1-cp310-cp310-win_amd64.whl (3.7 MB)\n",
      "     ---------------------------------------- 3.7/3.7 MB 10.8 MB/s eta 0:00:00\n",
      "Requirement already satisfied: typing-extensions>=3.6.6 in c:\\users\\rhabe\\anaconda3\\envs\\tuwnlpie\\lib\\site-packages (from tensorflow-intel==2.11.0->tensorflow) (4.4.0)\n",
      "Collecting google-pasta>=0.1.1\n",
      "  Downloading google_pasta-0.2.0-py3-none-any.whl (57 kB)\n",
      "     ---------------------------------------- 57.5/57.5 kB ? eta 0:00:00\n",
      "Requirement already satisfied: six>=1.12.0 in c:\\users\\rhabe\\anaconda3\\envs\\tuwnlpie\\lib\\site-packages (from tensorflow-intel==2.11.0->tensorflow) (1.16.0)\n",
      "Collecting tensorflow-io-gcs-filesystem>=0.23.1\n",
      "  Downloading tensorflow_io_gcs_filesystem-0.28.0-cp310-cp310-win_amd64.whl (1.5 MB)\n",
      "     ---------------------------------------- 1.5/1.5 MB 10.5 MB/s eta 0:00:00\n",
      "Collecting absl-py>=1.0.0\n",
      "  Downloading absl_py-1.3.0-py3-none-any.whl (124 kB)\n",
      "     -------------------------------------- 124.6/124.6 kB 7.6 MB/s eta 0:00:00\n",
      "Collecting wrapt>=1.11.0\n",
      "  Downloading wrapt-1.14.1-cp310-cp310-win_amd64.whl (35 kB)\n",
      "Collecting gast<=0.4.0,>=0.2.1\n",
      "  Downloading gast-0.4.0-py3-none-any.whl (9.8 kB)\n",
      "Requirement already satisfied: packaging in c:\\users\\rhabe\\anaconda3\\envs\\tuwnlpie\\lib\\site-packages (from tensorflow-intel==2.11.0->tensorflow) (21.3)\n",
      "Collecting h5py>=2.9.0\n",
      "  Downloading h5py-3.7.0-cp310-cp310-win_amd64.whl (2.6 MB)\n",
      "     ---------------------------------------- 2.6/2.6 MB 11.2 MB/s eta 0:00:00\n",
      "Collecting keras<2.12,>=2.11.0\n",
      "  Downloading keras-2.11.0-py2.py3-none-any.whl (1.7 MB)\n",
      "     ---------------------------------------- 1.7/1.7 MB 10.7 MB/s eta 0:00:00\n",
      "Collecting opt-einsum>=2.3.2\n",
      "  Downloading opt_einsum-3.3.0-py3-none-any.whl (65 kB)\n",
      "     ---------------------------------------- 65.5/65.5 kB ? eta 0:00:00\n",
      "Requirement already satisfied: setuptools in c:\\users\\rhabe\\anaconda3\\envs\\tuwnlpie\\lib\\site-packages (from tensorflow-intel==2.11.0->tensorflow) (65.5.0)\n",
      "Collecting termcolor>=1.1.0\n",
      "  Downloading termcolor-2.1.1-py3-none-any.whl (6.2 kB)\n",
      "Collecting protobuf<3.20,>=3.9.2\n",
      "  Downloading protobuf-3.19.6-cp310-cp310-win_amd64.whl (895 kB)\n",
      "     ------------------------------------- 895.7/895.7 kB 11.2 MB/s eta 0:00:00\n",
      "Requirement already satisfied: wheel<1.0,>=0.23.0 in c:\\users\\rhabe\\anaconda3\\envs\\tuwnlpie\\lib\\site-packages (from astunparse>=1.6.0->tensorflow-intel==2.11.0->tensorflow) (0.37.1)\n",
      "Collecting markdown>=2.6.8\n",
      "  Downloading Markdown-3.4.1-py3-none-any.whl (93 kB)\n",
      "     ---------------------------------------- 93.3/93.3 kB ? eta 0:00:00\n",
      "Collecting google-auth<3,>=1.6.3\n",
      "  Downloading google_auth-2.15.0-py2.py3-none-any.whl (177 kB)\n",
      "     -------------------------------------- 177.0/177.0 kB 5.4 MB/s eta 0:00:00\n",
      "Collecting tensorboard-data-server<0.7.0,>=0.6.0\n",
      "  Downloading tensorboard_data_server-0.6.1-py3-none-any.whl (2.4 kB)\n",
      "Collecting google-auth-oauthlib<0.5,>=0.4.1\n",
      "  Downloading google_auth_oauthlib-0.4.6-py2.py3-none-any.whl (18 kB)\n",
      "Requirement already satisfied: requests<3,>=2.21.0 in c:\\users\\rhabe\\anaconda3\\envs\\tuwnlpie\\lib\\site-packages (from tensorboard<2.12,>=2.11->tensorflow-intel==2.11.0->tensorflow) (2.28.1)\n",
      "Collecting tensorboard-plugin-wit>=1.6.0\n",
      "  Downloading tensorboard_plugin_wit-1.8.1-py3-none-any.whl (781 kB)\n",
      "     -------------------------------------- 781.3/781.3 kB 8.2 MB/s eta 0:00:00\n",
      "Collecting werkzeug>=1.0.1\n",
      "  Downloading Werkzeug-2.2.2-py3-none-any.whl (232 kB)\n",
      "     -------------------------------------- 232.7/232.7 kB 7.2 MB/s eta 0:00:00\n",
      "Requirement already satisfied: pyparsing!=3.0.5,>=2.0.2 in c:\\users\\rhabe\\anaconda3\\envs\\tuwnlpie\\lib\\site-packages (from packaging->tensorflow-intel==2.11.0->tensorflow) (3.0.9)\n",
      "Collecting cachetools<6.0,>=2.0.0\n",
      "  Downloading cachetools-5.2.0-py3-none-any.whl (9.3 kB)\n",
      "Collecting rsa<5,>=3.1.4\n",
      "  Downloading rsa-4.9-py3-none-any.whl (34 kB)\n",
      "Collecting pyasn1-modules>=0.2.1\n",
      "  Downloading pyasn1_modules-0.2.8-py2.py3-none-any.whl (155 kB)\n",
      "     -------------------------------------- 155.3/155.3 kB 9.7 MB/s eta 0:00:00\n",
      "Collecting requests-oauthlib>=0.7.0\n",
      "  Downloading requests_oauthlib-1.3.1-py2.py3-none-any.whl (23 kB)\n",
      "Requirement already satisfied: idna<4,>=2.5 in c:\\users\\rhabe\\anaconda3\\envs\\tuwnlpie\\lib\\site-packages (from requests<3,>=2.21.0->tensorboard<2.12,>=2.11->tensorflow-intel==2.11.0->tensorflow) (3.4)\n",
      "Requirement already satisfied: certifi>=2017.4.17 in c:\\users\\rhabe\\anaconda3\\envs\\tuwnlpie\\lib\\site-packages (from requests<3,>=2.21.0->tensorboard<2.12,>=2.11->tensorflow-intel==2.11.0->tensorflow) (2022.9.24)\n",
      "Requirement already satisfied: charset-normalizer<3,>=2 in c:\\users\\rhabe\\anaconda3\\envs\\tuwnlpie\\lib\\site-packages (from requests<3,>=2.21.0->tensorboard<2.12,>=2.11->tensorflow-intel==2.11.0->tensorflow) (2.1.1)\n",
      "Requirement already satisfied: urllib3<1.27,>=1.21.1 in c:\\users\\rhabe\\anaconda3\\envs\\tuwnlpie\\lib\\site-packages (from requests<3,>=2.21.0->tensorboard<2.12,>=2.11->tensorflow-intel==2.11.0->tensorflow) (1.26.13)\n",
      "Requirement already satisfied: MarkupSafe>=2.1.1 in c:\\users\\rhabe\\anaconda3\\envs\\tuwnlpie\\lib\\site-packages (from werkzeug>=1.0.1->tensorboard<2.12,>=2.11->tensorflow-intel==2.11.0->tensorflow) (2.1.1)\n",
      "Collecting pyasn1<0.5.0,>=0.4.6\n",
      "  Downloading pyasn1-0.4.8-py2.py3-none-any.whl (77 kB)\n",
      "     ---------------------------------------- 77.1/77.1 kB ? eta 0:00:00\n",
      "Collecting oauthlib>=3.0.0\n",
      "  Downloading oauthlib-3.2.2-py3-none-any.whl (151 kB)\n",
      "     -------------------------------------- 151.7/151.7 kB 9.4 MB/s eta 0:00:00\n",
      "Installing collected packages: tensorboard-plugin-wit, pyasn1, libclang, flatbuffers, wrapt, werkzeug, termcolor, tensorflow-io-gcs-filesystem, tensorflow-estimator, tensorboard-data-server, rsa, pyasn1-modules, protobuf, opt-einsum, oauthlib, markdown, keras, h5py, grpcio, google-pasta, gast, cachetools, astunparse, absl-py, requests-oauthlib, google-auth, google-auth-oauthlib, tensorboard, tensorflow-intel, tensorflow\n",
      "Successfully installed absl-py-1.3.0 astunparse-1.6.3 cachetools-5.2.0 flatbuffers-22.11.23 gast-0.4.0 google-auth-2.15.0 google-auth-oauthlib-0.4.6 google-pasta-0.2.0 grpcio-1.51.1 h5py-3.7.0 keras-2.11.0 libclang-14.0.6 markdown-3.4.1 oauthlib-3.2.2 opt-einsum-3.3.0 protobuf-3.19.6 pyasn1-0.4.8 pyasn1-modules-0.2.8 requests-oauthlib-1.3.1 rsa-4.9 tensorboard-2.11.0 tensorboard-data-server-0.6.1 tensorboard-plugin-wit-1.8.1 tensorflow-2.11.0 tensorflow-estimator-2.11.0 tensorflow-intel-2.11.0 tensorflow-io-gcs-filesystem-0.28.0 termcolor-2.1.1 werkzeug-2.2.2 wrapt-1.14.1\n"
     ]
    },
    {
     "name": "stderr",
     "output_type": "stream",
     "text": [
      "WARNING: Ignoring invalid distribution -orch (c:\\users\\rhabe\\anaconda3\\envs\\tuwnlpie\\lib\\site-packages)\n",
      "WARNING: Ignoring invalid distribution -orch (c:\\users\\rhabe\\anaconda3\\envs\\tuwnlpie\\lib\\site-packages)\n",
      "WARNING: Ignoring invalid distribution -orch (c:\\users\\rhabe\\anaconda3\\envs\\tuwnlpie\\lib\\site-packages)\n",
      "WARNING: Ignoring invalid distribution -orch (c:\\users\\rhabe\\anaconda3\\envs\\tuwnlpie\\lib\\site-packages)\n",
      "WARNING: Ignoring invalid distribution -orch (c:\\users\\rhabe\\anaconda3\\envs\\tuwnlpie\\lib\\site-packages)\n",
      "WARNING: Ignoring invalid distribution -orch (c:\\users\\rhabe\\anaconda3\\envs\\tuwnlpie\\lib\\site-packages)\n",
      "WARNING: Ignoring invalid distribution -orch (c:\\users\\rhabe\\anaconda3\\envs\\tuwnlpie\\lib\\site-packages)\n",
      "WARNING: Ignoring invalid distribution -orch (c:\\users\\rhabe\\anaconda3\\envs\\tuwnlpie\\lib\\site-packages)\n",
      "WARNING: Ignoring invalid distribution -orch (c:\\users\\rhabe\\anaconda3\\envs\\tuwnlpie\\lib\\site-packages)\n",
      "WARNING: Ignoring invalid distribution -orch (c:\\users\\rhabe\\anaconda3\\envs\\tuwnlpie\\lib\\site-packages)\n",
      "WARNING: Ignoring invalid distribution -orch (c:\\users\\rhabe\\anaconda3\\envs\\tuwnlpie\\lib\\site-packages)\n",
      "WARNING: Ignoring invalid distribution -orch (c:\\users\\rhabe\\anaconda3\\envs\\tuwnlpie\\lib\\site-packages)\n",
      "WARNING: Ignoring invalid distribution -orch (c:\\users\\rhabe\\anaconda3\\envs\\tuwnlpie\\lib\\site-packages)\n",
      "WARNING: Ignoring invalid distribution -orch (c:\\users\\rhabe\\anaconda3\\envs\\tuwnlpie\\lib\\site-packages)\n",
      "WARNING: Ignoring invalid distribution -orch (c:\\users\\rhabe\\anaconda3\\envs\\tuwnlpie\\lib\\site-packages)\n",
      "WARNING: Ignoring invalid distribution -orch (c:\\users\\rhabe\\anaconda3\\envs\\tuwnlpie\\lib\\site-packages)\n",
      "WARNING: Ignoring invalid distribution -orch (c:\\users\\rhabe\\anaconda3\\envs\\tuwnlpie\\lib\\site-packages)\n",
      "WARNING: Ignoring invalid distribution -orch (c:\\users\\rhabe\\anaconda3\\envs\\tuwnlpie\\lib\\site-packages)\n",
      "WARNING: Ignoring invalid distribution -orch (c:\\users\\rhabe\\anaconda3\\envs\\tuwnlpie\\lib\\site-packages)\n",
      "WARNING: Ignoring invalid distribution -orch (c:\\users\\rhabe\\anaconda3\\envs\\tuwnlpie\\lib\\site-packages)\n",
      "WARNING: Ignoring invalid distribution -orch (c:\\users\\rhabe\\anaconda3\\envs\\tuwnlpie\\lib\\site-packages)\n",
      "WARNING: Ignoring invalid distribution -orch (c:\\users\\rhabe\\anaconda3\\envs\\tuwnlpie\\lib\\site-packages)\n",
      "WARNING: Ignoring invalid distribution -orch (c:\\users\\rhabe\\anaconda3\\envs\\tuwnlpie\\lib\\site-packages)\n",
      "WARNING: Ignoring invalid distribution -orch (c:\\users\\rhabe\\anaconda3\\envs\\tuwnlpie\\lib\\site-packages)\n",
      "WARNING: Ignoring invalid distribution -orch (c:\\users\\rhabe\\anaconda3\\envs\\tuwnlpie\\lib\\site-packages)\n",
      "WARNING: Ignoring invalid distribution -orch (c:\\users\\rhabe\\anaconda3\\envs\\tuwnlpie\\lib\\site-packages)\n",
      "WARNING: Ignoring invalid distribution -orch (c:\\users\\rhabe\\anaconda3\\envs\\tuwnlpie\\lib\\site-packages)\n",
      "WARNING: Ignoring invalid distribution -orch (c:\\users\\rhabe\\anaconda3\\envs\\tuwnlpie\\lib\\site-packages)\n",
      "WARNING: Ignoring invalid distribution -orch (c:\\users\\rhabe\\anaconda3\\envs\\tuwnlpie\\lib\\site-packages)\n",
      "WARNING: Ignoring invalid distribution -orch (c:\\users\\rhabe\\anaconda3\\envs\\tuwnlpie\\lib\\site-packages)\n",
      "WARNING: Ignoring invalid distribution -orch (c:\\users\\rhabe\\anaconda3\\envs\\tuwnlpie\\lib\\site-packages)\n",
      "WARNING: Ignoring invalid distribution -orch (c:\\users\\rhabe\\anaconda3\\envs\\tuwnlpie\\lib\\site-packages)\n",
      "WARNING: Ignoring invalid distribution -orch (c:\\users\\rhabe\\anaconda3\\envs\\tuwnlpie\\lib\\site-packages)\n",
      "WARNING: Ignoring invalid distribution -orch (c:\\users\\rhabe\\anaconda3\\envs\\tuwnlpie\\lib\\site-packages)\n",
      "WARNING: Ignoring invalid distribution -orch (c:\\users\\rhabe\\anaconda3\\envs\\tuwnlpie\\lib\\site-packages)\n",
      "WARNING: Ignoring invalid distribution -orch (c:\\users\\rhabe\\anaconda3\\envs\\tuwnlpie\\lib\\site-packages)\n"
     ]
    }
   ],
   "source": [
    "!pip install tensorflow"
   ]
  },
  {
   "cell_type": "code",
   "execution_count": 38,
   "id": "e0a17a4c",
   "metadata": {
    "id": "e0a17a4c"
   },
   "outputs": [],
   "source": [
    "import pandas as pd\n",
    "import tensorflow as tf\n",
    "from tensorflow import keras\n",
    "from tensorflow.keras.preprocessing.text import Tokenizer\n",
    "from tensorflow.keras.preprocessing.sequence import pad_sequences\n",
    "import numpy as np\n",
    "import matplotlib.pyplot as plt"
   ]
  },
  {
   "cell_type": "markdown",
   "id": "ee88d889",
   "metadata": {
    "id": "ee88d889"
   },
   "source": [
    "**Transforming data to binary (sentense: 0 not cause, 1 is_cause)**"
   ]
  },
  {
   "cell_type": "code",
   "execution_count": 39,
   "id": "b4d0562a",
   "metadata": {
    "colab": {
     "base_uri": "https://localhost:8080/",
     "height": 424
    },
    "id": "b4d0562a",
    "outputId": "68a46c91-2aed-4a35-bc0f-7f71fbf9463b"
   },
   "outputs": [
    {
     "data": {
      "text/html": [
       "<div>\n",
       "<style scoped>\n",
       "    .dataframe tbody tr th:only-of-type {\n",
       "        vertical-align: middle;\n",
       "    }\n",
       "\n",
       "    .dataframe tbody tr th {\n",
       "        vertical-align: top;\n",
       "    }\n",
       "\n",
       "    .dataframe thead th {\n",
       "        text-align: right;\n",
       "    }\n",
       "</style>\n",
       "<table border=\"1\" class=\"dataframe\">\n",
       "  <thead>\n",
       "    <tr style=\"text-align: right;\">\n",
       "      <th></th>\n",
       "      <th>sentence</th>\n",
       "      <th>is_cause</th>\n",
       "    </tr>\n",
       "  </thead>\n",
       "  <tbody>\n",
       "    <tr>\n",
       "      <th>0</th>\n",
       "      <td>Interestingly, many Indian tribes use Bombax c...</td>\n",
       "      <td>0</td>\n",
       "    </tr>\n",
       "    <tr>\n",
       "      <th>1</th>\n",
       "      <td>Ultra-processed food consumption has been asso...</td>\n",
       "      <td>1</td>\n",
       "    </tr>\n",
       "    <tr>\n",
       "      <th>2</th>\n",
       "      <td>Salt has notoriously been blamed for causing a...</td>\n",
       "      <td>1</td>\n",
       "    </tr>\n",
       "    <tr>\n",
       "      <th>3</th>\n",
       "      <td>in broiler chicken flocks when animal-based me...</td>\n",
       "      <td>0</td>\n",
       "    </tr>\n",
       "    <tr>\n",
       "      <th>4</th>\n",
       "      <td>In short, this study demonstrated that SFP cou...</td>\n",
       "      <td>0</td>\n",
       "    </tr>\n",
       "    <tr>\n",
       "      <th>...</th>\n",
       "      <td>...</td>\n",
       "      <td>...</td>\n",
       "    </tr>\n",
       "    <tr>\n",
       "      <th>603</th>\n",
       "      <td>Thus, the inclusion of food sources of dietary...</td>\n",
       "      <td>0</td>\n",
       "    </tr>\n",
       "    <tr>\n",
       "      <th>604</th>\n",
       "      <td>Glasshouse pathogenicity tests with 'Reed' avo...</td>\n",
       "      <td>0</td>\n",
       "    </tr>\n",
       "    <tr>\n",
       "      <th>605</th>\n",
       "      <td>Intake of beverages with excess free fructose ...</td>\n",
       "      <td>1</td>\n",
       "    </tr>\n",
       "    <tr>\n",
       "      <th>606</th>\n",
       "      <td>However, some evidence exists regarding a pote...</td>\n",
       "      <td>0</td>\n",
       "    </tr>\n",
       "    <tr>\n",
       "      <th>607</th>\n",
       "      <td>There is no doubt that folic acid fortificatio...</td>\n",
       "      <td>0</td>\n",
       "    </tr>\n",
       "  </tbody>\n",
       "</table>\n",
       "<p>608 rows × 2 columns</p>\n",
       "</div>"
      ],
      "text/plain": [
       "                                              sentence  is_cause\n",
       "0    Interestingly, many Indian tribes use Bombax c...         0\n",
       "1    Ultra-processed food consumption has been asso...         1\n",
       "2    Salt has notoriously been blamed for causing a...         1\n",
       "3    in broiler chicken flocks when animal-based me...         0\n",
       "4    In short, this study demonstrated that SFP cou...         0\n",
       "..                                                 ...       ...\n",
       "603  Thus, the inclusion of food sources of dietary...         0\n",
       "604  Glasshouse pathogenicity tests with 'Reed' avo...         0\n",
       "605  Intake of beverages with excess free fructose ...         1\n",
       "606  However, some evidence exists regarding a pote...         0\n",
       "607  There is no doubt that folic acid fortificatio...         0\n",
       "\n",
       "[608 rows x 2 columns]"
      ]
     },
     "execution_count": 39,
     "metadata": {},
     "output_type": "execute_result"
    }
   ],
   "source": [
    "df = pd.read_csv(\"./data/food_disease_dataset.csv\")\n",
    "df = df.drop(['Unnamed: 0','disease_entity', 'food_entity', 'disease_doid', 'is_treat'], axis=1)\n",
    "df['is_cause'] = df['is_cause'].apply(np.int64)\n",
    "df"
   ]
  },
  {
   "cell_type": "code",
   "execution_count": 40,
   "id": "d88e71ce",
   "metadata": {
    "id": "d88e71ce"
   },
   "outputs": [],
   "source": [
    "## this means any unknown words will be replaced by oov_token\n",
    "tokenizer = Tokenizer(oov_token=\"<OOV>\")"
   ]
  },
  {
   "cell_type": "markdown",
   "id": "6167648d",
   "metadata": {
    "id": "6167648d"
   },
   "source": [
    "**we used 80% of data as training data, 20% for testing**"
   ]
  },
  {
   "cell_type": "code",
   "execution_count": 41,
   "id": "727b9201",
   "metadata": {
    "id": "727b9201"
   },
   "outputs": [],
   "source": [
    "split = round(len(df)*0.8)\n",
    "train_reviews = df['sentence'][:split]\n",
    "train_label = df['is_cause'][:split]\n",
    "test_reviews = df['sentence'][split:]\n",
    "test_label = df['is_cause'][split:]"
   ]
  },
  {
   "cell_type": "code",
   "execution_count": 42,
   "id": "ec4edd9a",
   "metadata": {
    "colab": {
     "base_uri": "https://localhost:8080/"
    },
    "id": "ec4edd9a",
    "outputId": "46725b8f-03f4-4f32-c410-aae0aafa2595"
   },
   "outputs": [
    {
     "data": {
      "text/plain": [
       "0      Interestingly, many Indian tribes use Bombax c...\n",
       "1      Ultra-processed food consumption has been asso...\n",
       "2      Salt has notoriously been blamed for causing a...\n",
       "3      in broiler chicken flocks when animal-based me...\n",
       "4      In short, this study demonstrated that SFP cou...\n",
       "                             ...                        \n",
       "481    The associations between specific types of nut...\n",
       "482    Oregano oil was found to specifically inhibit ...\n",
       "483    Fruit and vegetable intake has been associated...\n",
       "484    Dietary Approaches to Stop Hypertension (DASH)...\n",
       "485    In 2000, inhalation of butter flavoring vapors...\n",
       "Name: sentence, Length: 486, dtype: object"
      ]
     },
     "execution_count": 42,
     "metadata": {},
     "output_type": "execute_result"
    }
   ],
   "source": [
    "train_reviews"
   ]
  },
  {
   "cell_type": "markdown",
   "id": "a5e5420d",
   "metadata": {
    "id": "a5e5420d"
   },
   "source": [
    "**converting everything to string format to avoid having error later**"
   ]
  },
  {
   "cell_type": "code",
   "execution_count": 43,
   "id": "35bdaad9",
   "metadata": {
    "id": "35bdaad9"
   },
   "outputs": [],
   "source": [
    "training_sentences = []\n",
    "training_labels = []\n",
    "testing_sentences = []\n",
    "testing_labels = []\n",
    "for row in train_reviews:\n",
    "    training_sentences.append(str(row))\n",
    "for row in train_label:\n",
    "    training_labels.append(row)\n",
    "for row in test_reviews:\n",
    "    testing_sentences.append(str(row))\n",
    "for row in test_label:\n",
    "    testing_labels.append(row)"
   ]
  },
  {
   "cell_type": "code",
   "execution_count": 44,
   "id": "201b1866",
   "metadata": {
    "id": "201b1866"
   },
   "outputs": [],
   "source": [
    "vocab_size = 40000 ##means we will take 40,000 unique words to train the network\n",
    "embedding_dim = 16  ##means each word will be represented by a 16-dimensional vector\n",
    "max_length = 50  ##Max_length 120 represents the length of each review\n",
    "trunc_type = 'post' ##sentences will be truncated at the end when a sentence is bigger than 120 words\n",
    "oov_tok = '<OOV>' ##if the sentence is less than 120 words it will be padded to make 120 words.\n",
    "padding_type = 'post' ##padding_type ‘post’ means padding will be applied at the end, not in the beginning."
   ]
  },
  {
   "cell_type": "code",
   "execution_count": 45,
   "id": "b3e203e6",
   "metadata": {
    "id": "b3e203e6"
   },
   "outputs": [],
   "source": [
    "tokenizer = Tokenizer(num_words=vocab_size, oov_token=oov_tok)\n",
    "tokenizer.fit_on_texts(training_sentences)\n",
    "word_index = tokenizer.word_index"
   ]
  },
  {
   "cell_type": "code",
   "execution_count": 46,
   "id": "721cef6b",
   "metadata": {
    "id": "721cef6b"
   },
   "outputs": [],
   "source": [
    "sequences = tokenizer.texts_to_sequences(training_sentences)\n",
    "padded = pad_sequences(sequences, maxlen=max_length, truncating=trunc_type)\n",
    "testing_sentences = tokenizer.texts_to_sequences(testing_sentences)\n",
    "testing_padded = pad_sequences(testing_sentences, maxlen=max_length)"
   ]
  },
  {
   "cell_type": "code",
   "execution_count": 47,
   "id": "6076723c",
   "metadata": {
    "colab": {
     "base_uri": "https://localhost:8080/"
    },
    "id": "6076723c",
    "outputId": "bf20d8c1-58d2-4d0b-c52d-7dc1e3e16a4a"
   },
   "outputs": [
    {
     "data": {
      "text/plain": [
       "array([[   0,    0,    0, ...,    2, 2299,   12],\n",
       "       [   0,    0,    0, ..., 1105,  462,  297],\n",
       "       [   0,    0,    0, ...,   34,   12,  255],\n",
       "       ...,\n",
       "       [   0,    0,    0, ...,   67,    5,  155],\n",
       "       [   0,    0,    0, ...,    1,  415,  142],\n",
       "       [   0,    0,    0, ...,  398,  461,  462]])"
      ]
     },
     "execution_count": 47,
     "metadata": {},
     "output_type": "execute_result"
    }
   ],
   "source": [
    "testing_padded"
   ]
  },
  {
   "cell_type": "code",
   "execution_count": 48,
   "id": "f9947cbe",
   "metadata": {
    "id": "f9947cbe"
   },
   "outputs": [],
   "source": [
    "model = tf.keras.Sequential([\n",
    "    tf.keras.layers.Embedding(vocab_size, embedding_dim,       input_length=max_length),\n",
    "    tf.keras.layers.GlobalAveragePooling1D(),\n",
    "    tf.keras.layers.Dense(6, activation='relu'),\n",
    "    tf.keras.layers.Dense(1, activation='sigmoid')\n",
    "])"
   ]
  },
  {
   "cell_type": "code",
   "execution_count": 49,
   "id": "f6f1def7",
   "metadata": {
    "colab": {
     "base_uri": "https://localhost:8080/"
    },
    "id": "f6f1def7",
    "outputId": "9a7ee755-e445-4606-d58c-9c12e60140d3"
   },
   "outputs": [
    {
     "name": "stdout",
     "output_type": "stream",
     "text": [
      "Model: \"sequential\"\n",
      "_________________________________________________________________\n",
      " Layer (type)                Output Shape              Param #   \n",
      "=================================================================\n",
      " embedding (Embedding)       (None, 50, 16)            640000    \n",
      "                                                                 \n",
      " global_average_pooling1d (G  (None, 16)               0         \n",
      " lobalAveragePooling1D)                                          \n",
      "                                                                 \n",
      " dense (Dense)               (None, 6)                 102       \n",
      "                                                                 \n",
      " dense_1 (Dense)             (None, 1)                 7         \n",
      "                                                                 \n",
      "=================================================================\n",
      "Total params: 640,109\n",
      "Trainable params: 640,109\n",
      "Non-trainable params: 0\n",
      "_________________________________________________________________\n"
     ]
    }
   ],
   "source": [
    "model.compile(loss='binary_crossentropy', optimizer='adam', metrics=['accuracy'])\n",
    "model.summary()"
   ]
  },
  {
   "cell_type": "code",
   "execution_count": 50,
   "id": "032feacb",
   "metadata": {
    "id": "032feacb"
   },
   "outputs": [],
   "source": [
    "training_labels_final = np.array(training_labels)\n",
    "testing_labels_final = np.array(testing_labels)"
   ]
  },
  {
   "cell_type": "code",
   "execution_count": 51,
   "id": "cb28656f",
   "metadata": {
    "colab": {
     "base_uri": "https://localhost:8080/"
    },
    "id": "cb28656f",
    "outputId": "d323441b-c7d4-4fc7-a8f7-68d2d78be897"
   },
   "outputs": [
    {
     "name": "stdout",
     "output_type": "stream",
     "text": [
      "Epoch 1/25\n",
      "16/16 [==============================] - 1s 19ms/step - loss: 0.6893 - accuracy: 0.7222 - val_loss: 0.6825 - val_accuracy: 0.8361\n",
      "Epoch 2/25\n",
      "16/16 [==============================] - 0s 9ms/step - loss: 0.6802 - accuracy: 0.7490 - val_loss: 0.6649 - val_accuracy: 0.8361\n",
      "Epoch 3/25\n",
      "16/16 [==============================] - 0s 7ms/step - loss: 0.6643 - accuracy: 0.7490 - val_loss: 0.6398 - val_accuracy: 0.8361\n",
      "Epoch 4/25\n",
      "16/16 [==============================] - 0s 8ms/step - loss: 0.6458 - accuracy: 0.7490 - val_loss: 0.6143 - val_accuracy: 0.8361\n",
      "Epoch 5/25\n",
      "16/16 [==============================] - 0s 8ms/step - loss: 0.6280 - accuracy: 0.7490 - val_loss: 0.5877 - val_accuracy: 0.8361\n",
      "Epoch 6/25\n",
      "16/16 [==============================] - 0s 8ms/step - loss: 0.6094 - accuracy: 0.7490 - val_loss: 0.5622 - val_accuracy: 0.8361\n",
      "Epoch 7/25\n",
      "16/16 [==============================] - 0s 7ms/step - loss: 0.5922 - accuracy: 0.7490 - val_loss: 0.5351 - val_accuracy: 0.8361\n",
      "Epoch 8/25\n",
      "16/16 [==============================] - 0s 7ms/step - loss: 0.5760 - accuracy: 0.7490 - val_loss: 0.5111 - val_accuracy: 0.8361\n",
      "Epoch 9/25\n",
      "16/16 [==============================] - 0s 7ms/step - loss: 0.5624 - accuracy: 0.7490 - val_loss: 0.4944 - val_accuracy: 0.8361\n",
      "Epoch 10/25\n",
      "16/16 [==============================] - 0s 7ms/step - loss: 0.5523 - accuracy: 0.7490 - val_loss: 0.4779 - val_accuracy: 0.8361\n",
      "Epoch 11/25\n",
      "16/16 [==============================] - 0s 7ms/step - loss: 0.5424 - accuracy: 0.7490 - val_loss: 0.4660 - val_accuracy: 0.8361\n",
      "Epoch 12/25\n",
      "16/16 [==============================] - 0s 7ms/step - loss: 0.5344 - accuracy: 0.7490 - val_loss: 0.4555 - val_accuracy: 0.8361\n",
      "Epoch 13/25\n",
      "16/16 [==============================] - 0s 7ms/step - loss: 0.5271 - accuracy: 0.7490 - val_loss: 0.4448 - val_accuracy: 0.8361\n",
      "Epoch 14/25\n",
      "16/16 [==============================] - 0s 7ms/step - loss: 0.5196 - accuracy: 0.7490 - val_loss: 0.4407 - val_accuracy: 0.8361\n",
      "Epoch 15/25\n",
      "16/16 [==============================] - 0s 7ms/step - loss: 0.5115 - accuracy: 0.7490 - val_loss: 0.4387 - val_accuracy: 0.8361\n",
      "Epoch 16/25\n",
      "16/16 [==============================] - 0s 7ms/step - loss: 0.5027 - accuracy: 0.7490 - val_loss: 0.4334 - val_accuracy: 0.8361\n",
      "Epoch 17/25\n",
      "16/16 [==============================] - 0s 8ms/step - loss: 0.4932 - accuracy: 0.7490 - val_loss: 0.4276 - val_accuracy: 0.8361\n",
      "Epoch 18/25\n",
      "16/16 [==============================] - 0s 7ms/step - loss: 0.4827 - accuracy: 0.7490 - val_loss: 0.4234 - val_accuracy: 0.8361\n",
      "Epoch 19/25\n",
      "16/16 [==============================] - 0s 7ms/step - loss: 0.4702 - accuracy: 0.7490 - val_loss: 0.4182 - val_accuracy: 0.8361\n",
      "Epoch 20/25\n",
      "16/16 [==============================] - 0s 7ms/step - loss: 0.4559 - accuracy: 0.7490 - val_loss: 0.4160 - val_accuracy: 0.8361\n",
      "Epoch 21/25\n",
      "16/16 [==============================] - 0s 8ms/step - loss: 0.4400 - accuracy: 0.7490 - val_loss: 0.4088 - val_accuracy: 0.8361\n",
      "Epoch 22/25\n",
      "16/16 [==============================] - 0s 8ms/step - loss: 0.4224 - accuracy: 0.7490 - val_loss: 0.4021 - val_accuracy: 0.8361\n",
      "Epoch 23/25\n",
      "16/16 [==============================] - 0s 8ms/step - loss: 0.4035 - accuracy: 0.7490 - val_loss: 0.3978 - val_accuracy: 0.8361\n",
      "Epoch 24/25\n",
      "16/16 [==============================] - 0s 7ms/step - loss: 0.3847 - accuracy: 0.7757 - val_loss: 0.3913 - val_accuracy: 0.8443\n",
      "Epoch 25/25\n",
      "16/16 [==============================] - 0s 7ms/step - loss: 0.3652 - accuracy: 0.7922 - val_loss: 0.3817 - val_accuracy: 0.8443\n"
     ]
    }
   ],
   "source": [
    "num_epochs = 25\n",
    "history = model.fit(padded, training_labels_final, epochs=num_epochs, validation_data=(testing_padded, testing_labels_final))"
   ]
  },
  {
   "cell_type": "code",
   "execution_count": 52,
   "id": "68dd3420",
   "metadata": {
    "colab": {
     "base_uri": "https://localhost:8080/",
     "height": 580
    },
    "id": "68dd3420",
    "outputId": "5c9ca806-ab0d-42b3-84c1-d89a3eec2828"
   },
   "outputs": [
    {
     "data": {
      "text/plain": [
       "<Figure size 640x480 with 0 Axes>"
      ]
     },
     "execution_count": 52,
     "metadata": {},
     "output_type": "execute_result"
    },
    {
     "data": {
      "image/png": "[encoded data removed]",
      "text/plain": [
       "<Figure size 640x480 with 1 Axes>"
      ]
     },
     "metadata": {},
     "output_type": "display_data"
    },
    {
     "data": {
      "image/png": "[encoded data removed]",
      "text/plain": [
       "<Figure size 640x480 with 1 Axes>"
      ]
     },
     "metadata": {},
     "output_type": "display_data"
    },
    {
     "data": {
      "text/plain": [
       "<Figure size 640x480 with 0 Axes>"
      ]
     },
     "metadata": {},
     "output_type": "display_data"
    }
   ],
   "source": [
    "%matplotlib inline\n",
    "import matplotlib.pyplot as plt\n",
    "import matplotlib.image as mpimg\n",
    "acc = history.history['accuracy']\n",
    "val_acc = history.history['val_accuracy']\n",
    "loss = history.history['loss']\n",
    "val_loss = history.history['val_loss']\n",
    "epochs=range(len(acc))\n",
    "plt.plot(epochs, acc, 'r', 'Training Accuracy')\n",
    "plt.plot(epochs, val_acc, 'b', 'Validation Accuracy')\n",
    "plt.title('Training and validation accuracy')\n",
    "plt.figure()\n",
    "plt.plot(epochs, loss, 'r', 'Training Loss')\n",
    "plt.plot(epochs, val_loss, 'b', 'Validation Loss')\n",
    "plt.title('Training and validation loss')\n",
    "plt.figure()"
   ]
  },
  {
   "cell_type": "code",
   "execution_count": 53,
   "id": "89549149",
   "metadata": {
    "id": "89549149"
   },
   "outputs": [],
   "source": [
    "new_sentence = [\"Intake of beverages with excess free fructose (EFF), including apple juice, and HFCS sweetened fruit drinks and soft drinks\",\n",
    "                \"Salt has notoriously been blamed for causing an increase in the urinary excretion of calcium, and thus is a considered a risk factor for osteoporosis.\",\n",
    "                \"in broiler chicken flocks when animal-based measures related to footpad dermatitis, hock burns, body lesions and arthritis are identified under commercial conditions (high density).\",\n",
    "                \"In short, this study demonstrated that SFP could be developed as functional foods or pharmaceutical supplements for the prevention or mitigation of diabetes and its complications.\",\n",
    "                \"Wheat is one of the five most common foods that trigger allergic reactions in children.\"\n",
    "                ]\n",
    "new_sequences = tokenizer.texts_to_sequences(new_sentence)\n",
    "# padding the new sequences to make them have same dimensions\n",
    "new_padded = pad_sequences(new_sequences, maxlen = max_length,\n",
    "                           padding = padding_type,\n",
    "                           truncating = trunc_type)\n",
    "\n",
    "new_padded = np.array(new_padded)"
   ]
  },
  {
   "cell_type": "code",
   "execution_count": 54,
   "id": "918889a7",
   "metadata": {
    "colab": {
     "base_uri": "https://localhost:8080/"
    },
    "id": "918889a7",
    "outputId": "45466b13-77c8-447c-a065-4c94786be596"
   },
   "outputs": [
    {
     "name": "stdout",
     "output_type": "stream",
     "text": [
      "1/1 [==============================] - 0s 66ms/step\n",
      "[[0.23417403]\n",
      " [0.3712621 ]\n",
      " [0.20525132]\n",
      " [0.15732762]\n",
      " [0.45091558]]\n"
     ]
    }
   ],
   "source": [
    "print(model.predict(new_padded))"
   ]
  },
  {
   "cell_type": "markdown",
   "id": "4e21b966",
   "metadata": {
    "id": "4e21b966"
   },
   "source": [
    "## Discussion for baseline NN model using binary classification\n",
    "\n",
    "### General Remarks\n",
    "This model is straight forward NN, made for general purpose use and we used 80% of our dataset as input, thus we can summarize our baseline model as follows:\n",
    "\n",
    "### strengths \n",
    "1.   easy to use and straight forward model, with 1 hidden layer with 6 dimensions\n",
    "2.   Light weight as we can infere with low latency\n",
    "\n",
    "### weaknesses\n",
    "\n",
    "\n",
    "1.   Higher Accuracy on test dataset, but when we infer with new input we don't get good prediction power \n",
    "2.   Doesn't exctract full relation from the sentences as it gets good prediction from short sentences only.\n",
    "\n"
   ]
  }
 ],
 "metadata": {
  "colab": {
   "provenance": []
  },
  "kernelspec": {
   "display_name": "Python 3 (ipykernel)",
   "language": "python",
   "name": "python3"
  },
  "language_info": {
   "codemirror_mode": {
    "name": "ipython",
    "version": 3
   },
   "file_extension": ".py",
   "mimetype": "text/x-python",
   "name": "python",
   "nbconvert_exporter": "python",
   "pygments_lexer": "ipython3",
   "version": "3.10.6"
  },
  "vscode": {
   "interpreter": {
    "hash": "31f2aee4e71d21fbe5cf8b01ff0e069b9275f58929596ceb00d14d90e3e16cd6"
   }
  }
 },
 "nbformat": 4,
 "nbformat_minor": 5
}
